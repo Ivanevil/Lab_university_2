{
 "cells": [
  {
   "cell_type": "code",
   "execution_count": 72,
   "metadata": {
    "collapsed": false
   },
   "outputs": [
    {
     "name": "stdout",
     "output_type": "stream",
     "text": [
      "[-2, 2]\n"
     ]
    }
   ],
   "source": [
    "def f(x):\n",
    "    return 3 * x ** 4 + 4 * x ** 3 - 12 * x ** 2 - 7\n",
    "\n",
    "def search_interv():\n",
    "    l = []\n",
    "    for i in range(-10, 10, 1):\n",
    "        if f(i)*f(i-1)<0:\n",
    "            l.append(i)\n",
    "    return l\n",
    "\n",
    "print(search_interv())"
   ]
  },
  {
   "cell_type": "code",
   "execution_count": 102,
   "metadata": {
    "collapsed": false
   },
   "outputs": [
    {
     "name": "stdout",
     "output_type": "stream",
     "text": [
      "(1.6384658813476562, 0.0002183962969724007, 19)\n"
     ]
    }
   ],
   "source": [
    "eps = 0.00001\n",
    "# 3 * x ** 4 + 4 * x ** 3 - 12 * x ** 2 - 7 = 0\n",
    "# metod delenia popolam (dihotomii)\n",
    "def f(x):\n",
    "    return 3 * x ** 4 + 4 * x ** 3 - 12 * x ** 2 - 7\n",
    "\n",
    "def MDP(f, a, b):\n",
    "    n = 0\n",
    "    while abs(b-a) >= eps:\n",
    "        c = (b+a)/2\n",
    "        if f(c) == 0:\n",
    "            break\n",
    "        elif f(a)*f(c)<0:\n",
    "            b = c\n",
    "        else:\n",
    "            a = c\n",
    "        n += 1\n",
    "    return c, f(c), n\n",
    "\n",
    "    \n",
    "print(MDP(f, -2, 2))"
   ]
  },
  {
   "cell_type": "code",
   "execution_count": 100,
   "metadata": {
    "collapsed": false
   },
   "outputs": [
    {
     "name": "stdout",
     "output_type": "stream",
     "text": [
      "(1.6384610997486708, 7.936762358440319e-12, 8)\n"
     ]
    }
   ],
   "source": [
    "eps = 0.0001\n",
    "def f(x):\n",
    "    return 3 * x ** 4 + 4 * x ** 3 - 12 * x ** 2 - 7\n",
    "\n",
    "def formula(a, b):\n",
    "    return a - ((f(a)*(b-a)) / (f(b)-f(a)))\n",
    "\n",
    "def korni(a, b):\n",
    "    n = 0\n",
    "    while abs(b-a) >= eps:\n",
    "        a = formula(a, b)\n",
    "        b = formula(a, b)\n",
    "        n += 1\n",
    "    return b, f(b), n\n",
    "\n",
    "\n",
    "\n",
    "print(korni(-2, 2))"
   ]
  },
  {
   "cell_type": "code",
   "execution_count": null,
   "metadata": {
    "collapsed": true
   },
   "outputs": [],
   "source": []
  }
 ],
 "metadata": {
  "kernelspec": {
   "display_name": "Python 3",
   "language": "python",
   "name": "python3"
  },
  "language_info": {
   "codemirror_mode": {
    "name": "ipython",
    "version": 3
   },
   "file_extension": ".py",
   "mimetype": "text/x-python",
   "name": "python",
   "nbconvert_exporter": "python",
   "pygments_lexer": "ipython3",
   "version": "3.5.1"
  }
 },
 "nbformat": 4,
 "nbformat_minor": 1
}

{
 "cells": [
  {
   "cell_type": "code",
   "execution_count": 12,
   "metadata": {
    "collapsed": false
   },
   "outputs": [
    {
     "name": "stdout",
     "output_type": "stream",
     "text": [
      "8.701856396031145\n"
     ]
    }
   ],
   "source": [
    "total = 0\n",
    "l=[]\n",
    "# a(i) = 216/(7*(i^2+8*i+15))\n",
    "\n",
    "for i in range(100):\n",
    "    i = 216/(7*(i**2+8*i+15))\n",
    "    l.append(i)\n",
    "for j in l:\n",
    "    total += j\n",
    "    \n",
    "print(total)\n",
    "#summa posledovatelnosty chisel"
   ]
  },
  {
   "cell_type": "code",
   "execution_count": 92,
   "metadata": {
    "collapsed": false
   },
   "outputs": [
    {
     "ename": "SyntaxError",
     "evalue": "invalid syntax (<ipython-input-92-98b9939d013e>, line 13)",
     "output_type": "error",
     "traceback": [
      "\u001b[0;36m  File \u001b[0;32m\"<ipython-input-92-98b9939d013e>\"\u001b[0;36m, line \u001b[0;32m13\u001b[0m\n\u001b[0;31m    l_2.append(sum(l(0:i)) #??\u001b[0m\n\u001b[0m                      ^\u001b[0m\n\u001b[0;31mSyntaxError\u001b[0m\u001b[0;31m:\u001b[0m invalid syntax\n"
     ]
    }
   ],
   "source": [
    "import matplotlib.pyplot as plt\n",
    "\n",
    "eps=0.001\n",
    "\n",
    "def summi(n):\n",
    "    total = 0\n",
    "    l=[]\n",
    "    l_2=[]\n",
    "\n",
    "    for i in range(n):\n",
    "        i = 216/(7*(i**2+8*i+15))\n",
    "        l.append(i)\n",
    "        l_2.append(sum(l(0:i)) #??\n",
    "        \n",
    "    for j in l:\n",
    "        total += j\n",
    "    \n",
    "    return total\n",
    "\n",
    "def limt(eps):\n",
    "    k = 1\n",
    "    while (summi(k) - summi(k-1)) > eps:\n",
    "        k += 1\n",
    "    return k, summi(k), summi(k-1)\n",
    "    \n",
    "\n",
    "print(summi(100))\n",
    "print(limt(eps))\n",
    "\n",
    "\n",
    "\n",
    "plt.plot(l)\n",
    "plt.show()"
   ]
  },
  {
   "cell_type": "code",
   "execution_count": 7,
   "metadata": {
    "collapsed": false
   },
   "outputs": [
    {
     "name": "stdout",
     "output_type": "stream",
     "text": [
      "173\n",
      "8.825170592119731\n"
     ]
    },
    {
     "data": {
      "image/png": "[encoded data removed]",
      "text/plain": [
       "<matplotlib.figure.Figure at 0x7fd83e2ac080>"
      ]
     },
     "metadata": {},
     "output_type": "display_data"
    }
   ],
   "source": [
    "import matplotlib.pyplot as plt\n",
    "l = [1]\n",
    "s = 1\n",
    "while sum(l[0:s]) - sum(l[0:s-1])>0.001:\n",
    "    s += 1\n",
    "    l = [216/(7*(i**2+8*i+15)) for i in range(s)]\n",
    "l2 = [sum(l[0:k]) for k in range(s)]\n",
    "print(s)\n",
    "print(sum(l))\n",
    "plt.plot(l)\n",
    "plt.show()\n"
   ]
  },
  {
   "cell_type": "code",
   "execution_count": 3,
   "metadata": {
    "collapsed": false
   },
   "outputs": [
    {
     "data": {
      "image/png": "[encoded data removed]",
      "text/plain": [
       "<matplotlib.figure.Figure at 0x7fd83e2d2b70>"
      ]
     },
     "metadata": {},
     "output_type": "display_data"
    }
   ],
   "source": [
    "import matplotlib.pyplot as plt\n",
    "l = [1]\n",
    "s = 1\n",
    "while sum(l[0:s]) - sum(l[0:s-1])>0.001:\n",
    "    s += 1\n",
    "    l = [216/(7*(i**2+8*i+15)) for i in range(s)]\n",
    "l2 = [sum(l[0:k]) for k in range(s)]\n",
    "plt.plot(l2)\n",
    "plt.show()\n"
   ]
  },
  {
   "cell_type": "code",
   "execution_count": null,
   "metadata": {
    "collapsed": true
   },
   "outputs": [],
   "source": []
  }
 ],
 "metadata": {
  "kernelspec": {
   "display_name": "Python 3",
   "language": "python",
   "name": "python3"
  },
  "language_info": {
   "codemirror_mode": {
    "name": "ipython",
    "version": 3
   },
   "file_extension": ".py",
   "mimetype": "text/x-python",
   "name": "python",
   "nbconvert_exporter": "python",
   "pygments_lexer": "ipython3",
   "version": "3.5.1"
  }
 },
 "nbformat": 4,
 "nbformat_minor": 1
}

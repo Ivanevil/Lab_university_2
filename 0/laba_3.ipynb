{
 "cells": [
  {
   "cell_type": "code",
   "execution_count": 51,
   "metadata": {
    "collapsed": true
   },
   "outputs": [],
   "source": [
    "import numpy as np\n",
    "import matplotlib.pyplot as plt"
   ]
  },
  {
   "cell_type": "code",
   "execution_count": 4,
   "metadata": {
    "collapsed": false
   },
   "outputs": [],
   "source": [
    "fid = open(\"./Загрузки/data_var07.txt\", \"r\")\n",
    "lines = fid.readlines()\n",
    "fid.close()"
   ]
  },
  {
   "cell_type": "code",
   "execution_count": 5,
   "metadata": {
    "collapsed": false
   },
   "outputs": [
    {
     "data": {
      "text/plain": [
       "'Date,Open,High,Low,Close,Volume,OpenInt\\n'"
      ]
     },
     "execution_count": 5,
     "metadata": {},
     "output_type": "execute_result"
    }
   ],
   "source": [
    "lines[0]"
   ]
  },
  {
   "cell_type": "code",
   "execution_count": 6,
   "metadata": {
    "collapsed": false
   },
   "outputs": [
    {
     "data": {
      "text/plain": [
       "'2005-02-25,27.975,28.685,27.975,28.65,32640027,0\\n'"
      ]
     },
     "execution_count": 6,
     "metadata": {},
     "output_type": "execute_result"
    }
   ],
   "source": [
    "lines[1]"
   ]
  },
  {
   "cell_type": "code",
   "execution_count": 11,
   "metadata": {
    "collapsed": false
   },
   "outputs": [
    {
     "data": {
      "text/plain": [
       "['Date', 'Open', 'High', 'Low', 'Close', 'Volume', 'OpenInt\\n']"
      ]
     },
     "execution_count": 11,
     "metadata": {},
     "output_type": "execute_result"
    }
   ],
   "source": [
    "lines[0].split(',')"
   ]
  },
  {
   "cell_type": "code",
   "execution_count": 24,
   "metadata": {
    "collapsed": false
   },
   "outputs": [
    {
     "data": {
      "text/plain": [
       "'27.975'"
      ]
     },
     "execution_count": 24,
     "metadata": {},
     "output_type": "execute_result"
    }
   ],
   "source": [
    "lines[1].split(',')[1]"
   ]
  },
  {
   "cell_type": "code",
   "execution_count": 29,
   "metadata": {
    "collapsed": false,
    "scrolled": true
   },
   "outputs": [
    {
     "data": {
      "text/plain": [
       "3202"
      ]
     },
     "execution_count": 29,
     "metadata": {},
     "output_type": "execute_result"
    }
   ],
   "source": [
    "len(lines)"
   ]
  },
  {
   "cell_type": "code",
   "execution_count": 70,
   "metadata": {
    "collapsed": false,
    "scrolled": true
   },
   "outputs": [],
   "source": [
    "l1=[]\n",
    "l2=[]\n",
    "l3=[]\n",
    "l4=[]\n",
    "l5=[]\n",
    "for i in range(1, 3202):\n",
    "    a = float(lines[i].split(',')[1])\n",
    "    l1.append(a)\n",
    "for i in range(1, 3202):\n",
    "    a = float(lines[i].split(',')[2])\n",
    "    l2.append(a)\n",
    "for i in range(1, 3202):\n",
    "    a = float(lines[i].split(',')[3])\n",
    "    l3.append(a)\n",
    "for i in range(1, 3202):\n",
    "    a = float(lines[i].split(',')[4])\n",
    "    l4.append(a)\n",
    "for i in range(1, 3202):\n",
    "    a = float(lines[i].split(',')[5])\n",
    "    l5.append(a)"
   ]
  },
  {
   "cell_type": "code",
   "execution_count": 74,
   "metadata": {
    "collapsed": false,
    "scrolled": false
   },
   "outputs": [
    {
     "data": {
      "image/png": "iVBORw0KGgoAAAANSUhEUgAAAhIAAAFkCAYAAAB1rtL+AAAABHNCSVQICAgIfAhkiAAAAAlwSFlz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\nm4KEiIiIxKYgISIiIrEpSIiIiEhs/x80zCKKQb8roQAAAABJRU5ErkJggg==\n",
      "text/plain": [
       "<matplotlib.figure.Figure at 0x7fdd6179c3c8>"
      ]
     },
     "metadata": {},
     "output_type": "display_data"
    }
   ],
   "source": [
    "#2 Интерполяция Лагранжем\n",
    "x=[i for i in range(10)]\n",
    "x_new=[i/10 for i in range(100)]\n",
    "l1_new = l1[0:10]\n",
    "\n",
    "\n",
    "def lang(x,y,t):\n",
    "    z = 0\n",
    "    for j in range(len(y)): \n",
    "        p1=1\n",
    "        p2=1\n",
    "        for i in range(len(x)):\n",
    "            if i==j:\n",
    "                p1=p1*1\n",
    "                p2=p2*1\n",
    "            else:\n",
    "                p1=p1*(t-x[i])\n",
    "                p2=p2*(x[j]-x[i])\n",
    "        z = z + y[j]*(p1/p2)\n",
    "    return z\n",
    "\n",
    "y_new = [lang(x,l1_new,i) for i in x_new]\n",
    "plt.plot(x_new, y_new)\n",
    "plt.plot(l1_new,\"o\")\n",
    "plt.ylim(26,30)\n",
    "plt.show()"
   ]
  },
  {
   "cell_type": "code",
   "execution_count": 87,
   "metadata": {
    "collapsed": false
   },
   "outputs": [
    {
     "ename": "IndexError",
     "evalue": "list index out of range",
     "output_type": "error",
     "traceback": [
      "\u001b[0;31m---------------------------------------------------------------------------\u001b[0m",
      "\u001b[0;31mIndexError\u001b[0m                                Traceback (most recent call last)",
      "\u001b[0;32m<ipython-input-87-17a2f0980e22>\u001b[0m in \u001b[0;36m<module>\u001b[0;34m()\u001b[0m\n\u001b[1;32m     12\u001b[0m \u001b[0;32mfor\u001b[0m \u001b[0mn\u001b[0m \u001b[0;32min\u001b[0m \u001b[0mrange\u001b[0m\u001b[0;34m(\u001b[0m\u001b[0mlen\u001b[0m\u001b[0;34m(\u001b[0m\u001b[0mx_new\u001b[0m\u001b[0;34m)\u001b[0m\u001b[0;34m)\u001b[0m\u001b[0;34m:\u001b[0m\u001b[0;34m\u001b[0m\u001b[0m\n\u001b[1;32m     13\u001b[0m     \u001b[0mp\u001b[0m \u001b[0;34m=\u001b[0m \u001b[0mproduct\u001b[0m\u001b[0;34m(\u001b[0m\u001b[0mx\u001b[0m\u001b[0;34m[\u001b[0m\u001b[0mn\u001b[0m\u001b[0;34m]\u001b[0m\u001b[0;34m,\u001b[0m \u001b[0mn\u001b[0m\u001b[0;34m+\u001b[0m\u001b[0;36m1\u001b[0m\u001b[0;34m)\u001b[0m\u001b[0;34m\u001b[0m\u001b[0m\n\u001b[0;32m---> 14\u001b[0;31m     \u001b[0mC\u001b[0m\u001b[0;34m.\u001b[0m\u001b[0mappend\u001b[0m\u001b[0;34m(\u001b[0m \u001b[0;34m(\u001b[0m\u001b[0ml1_new2\u001b[0m\u001b[0;34m[\u001b[0m\u001b[0mn\u001b[0m\u001b[0;34m]\u001b[0m \u001b[0;34m-\u001b[0m \u001b[0msum\u001b[0m\u001b[0;34m(\u001b[0m\u001b[0mC\u001b[0m\u001b[0;34m[\u001b[0m\u001b[0mk\u001b[0m\u001b[0;34m]\u001b[0m\u001b[0;34m*\u001b[0m\u001b[0mnext\u001b[0m\u001b[0;34m(\u001b[0m\u001b[0mp\u001b[0m\u001b[0;34m)\u001b[0m \u001b[0;32mfor\u001b[0m \u001b[0mk\u001b[0m \u001b[0;32min\u001b[0m \u001b[0mrange\u001b[0m\u001b[0;34m(\u001b[0m\u001b[0mn\u001b[0m\u001b[0;34m)\u001b[0m\u001b[0;34m)\u001b[0m \u001b[0;34m)\u001b[0m\u001b[0;34m/\u001b[0m\u001b[0mnext\u001b[0m\u001b[0;34m(\u001b[0m\u001b[0mp\u001b[0m\u001b[0;34m)\u001b[0m\u001b[0;34m)\u001b[0m\u001b[0;34m\u001b[0m\u001b[0m\n\u001b[0m\u001b[1;32m     15\u001b[0m \u001b[0;34m\u001b[0m\u001b[0m\n\u001b[1;32m     16\u001b[0m \u001b[0mplt\u001b[0m\u001b[0;34m.\u001b[0m\u001b[0mplot\u001b[0m\u001b[0;34m(\u001b[0m\u001b[0mC\u001b[0m\u001b[0;34m)\u001b[0m\u001b[0;34m\u001b[0m\u001b[0m\n",
      "\u001b[0;31mIndexError\u001b[0m: list index out of range"
     ]
    }
   ],
   "source": [
    "x=[i for i in range(10)]\n",
    "x_new=[i/10 for i in range(100)]\n",
    "l1_new2 = l1[0:5]\n",
    "C=[]\n",
    "\n",
    "def product(val,n):\n",
    "    z = 1\n",
    "    for i in range(n):\n",
    "        if i: z *= val - x[i-1]\n",
    "        yield z\n",
    "\n",
    "for n in range(len(x_new)): #?????????????\n",
    "    p = product(x[n], n+1)\n",
    "    C.append( (l1_new2[n] - sum(C[k]*next(p) for k in range(n)) )/next(p))\n",
    "\n",
    "plt.plot(C)\n",
    "plt.show()"
   ]
  },
  {
   "cell_type": "code",
   "execution_count": null,
   "metadata": {
    "collapsed": true
   },
   "outputs": [],
   "source": []
  },
  {
   "cell_type": "code",
   "execution_count": 52,
   "metadata": {
    "collapsed": false,
    "scrolled": true
   },
   "outputs": [
    {
     "data": {
      "image/png": "iVBORw0KGgoAAAANSUhEUgAAAh0AAAFkCAYAAACEpYlzAAAABHNCSVQICAgIfAhkiAAAAAlwSFlz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\nRU5ErkJggg==\n",
      "text/plain": [
       "<matplotlib.figure.Figure at 0x7fdd6189e3c8>"
      ]
     },
     "metadata": {},
     "output_type": "display_data"
    }
   ],
   "source": [
    "plt.plot(np.array(l1)-np.array(l2))\n",
    "plt.show()"
   ]
  },
  {
   "cell_type": "code",
   "execution_count": 47,
   "metadata": {
    "collapsed": false,
    "scrolled": false
   },
   "outputs": [
    {
     "data": {
      "image/png": "iVBORw0KGgoAAAANSUhEUgAAAgQAAAFsCAYAAACzTaE8AAAABHNCSVQICAgIfAhkiAAAAAlwSFlz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\nRFTKNyUEpt
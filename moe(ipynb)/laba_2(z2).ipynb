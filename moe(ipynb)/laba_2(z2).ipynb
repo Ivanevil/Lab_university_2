{
 "cells": [
  {
   "cell_type": "code",
   "execution_count": 13,
   "metadata": {},
   "outputs": [
    {
     "name": "stdout",
     "output_type": "stream",
     "text": [
      "[0, 1]\n",
      "(-0.14407992243761822, 4)\n"
     ]
    }
   ],
   "source": [
    "# metod Newtona\n",
    "\n",
    "import math\n",
    "\n",
    "\n",
    "def f(x):\n",
    "    return math.tan(0.55 * x + 0.1) - x**2\n",
    "\n",
    "\n",
    "l1 = [i for i in range(-10, 10, 1) if f(i) * f(i - 1) < 0]\n",
    "print(l1)\n",
    "\n",
    "eps = 0.0001\n",
    "\n",
    "\n",
    "def f1(x):\n",
    "    return 0.55 / (math.cos(0.55 * x + 0.1) * math.cos(0.55 * x + 0.1)) - 2 * x\n",
    "\n",
    "\n",
    "# l2 = [i for i in range(-10, 10, 1) if f1(i) * f1(i - 1) < 0]\n",
    "# print(l2)\n",
    "\n",
    "\n",
    "def method(a, b):\n",
    "    x0 = (a + b) / 2\n",
    "    xn = f(x0)\n",
    "    xn1 = xn - f(xn) / f1(xn)\n",
    "    n = 0\n",
    "    while abs(xn1 - xn) > eps:\n",
    "        xn = xn1\n",
    "        xn1 = xn - f(xn) / f1(xn)\n",
    "        n += 1\n",
    "    return xn1, n\n",
    "\n",
    "print(method(0, 1))"
   ]
  },
  {
   "cell_type": "code",
   "execution_count": 14,
   "metadata": {},
   "outputs": [
    {
     "name": "stdout",
     "output_type": "stream",
     "text": [
      "(-0.14405936630896957, 5)\n"
     ]
    }
   ],
   "source": [
    "# metod Prostih ITERAZII\n",
    "\n",
    "import math\n",
    "\n",
    "eps = 0.0001\n",
    "\n",
    "\n",
    "def g(x):\n",
    "    return math.tan(0.55 * x + 0.1) - x**2\n",
    "\n",
    "\n",
    "# Представим уравнение в форме:\n",
    "# x = x - λ*(tan(0.55*x+0.1)-x**2)\n",
    "# Найдем максимальное значение производной от функции:\n",
    "# g(x)= tan(0.55*x+0.1)-x2)\n",
    "# берем производную приравниваем к 0 и находим корень\n",
    "# λ=1/fmax\n",
    "# λ=1.79856115\n",
    "\n",
    "\n",
    "def inr(a, b):\n",
    "    x0 = (a + b) / 2\n",
    "    xn = g(x0)\n",
    "    xn1 = xn - 1.79856115 * (math.tan(0.55 * xn + 0.1) - xn**2)\n",
    "    n = 0\n",
    "    while abs(xn1 - xn) > eps:\n",
    "        xn = xn1\n",
    "        xn1 = xn - 1.79856115 * (math.tan(0.55 * xn + 0.1) - xn**2)\n",
    "        n += 1\n",
    "    return xn1, n\n",
    "\n",
    "\n",
    "print(inr(0, 1))\n"
   ]
  },
  {
   "cell_type": "code",
   "execution_count": 15,
   "metadata": {},
   "outputs": [
    {
     "data": {
      "image/png": "[encoded data removed]",
      "text/plain": [
       "<Figure size 432x288 with 1 Axes>"
      ]
     },
     "metadata": {
      "needs_background": "light"
     },
     "output_type": "display_data"
    },
    {
     "data": {
      "image/png": "[encoded data removed]",
      "text/plain": [
       "<Figure size 432x288 with 1 Axes>"
      ]
     },
     "metadata": {
      "needs_background": "light"
     },
     "output_type": "display_data"
    }
   ],
   "source": [
    "# metod prostih iteraziy\n",
    "import math\n",
    "import matplotlib.pyplot as plt\n",
    "\n",
    "def f(x):\n",
    "    return math.tan(0.55 * x + 0.1) - x**2\n",
    "\n",
    "def f1(x):\n",
    "    return 0.55 / (math.cos(0.55 * x + 0.1) * math.cos(0.55 * x + 0.1)) - 2 * x\n",
    "\n",
    "fig = plt.figure()\n",
    "graph1 = plt.plot([i for i in range(-1000, 1000, 1)], [f(i) for i in range(-1000, 1000, 1)])\n",
    "plt.grid(True)\n",
    "\n",
    "fig = plt.figure()\n",
    "graph2 = plt.plot([i for i in range(-1000, 1000, 1)], [f1(i) for i in range(-1000, 1000, 1)])\n",
    "plt.grid(True)\n",
    "\n",
    "\n",
    "plt.show()\n",
    "\n",
    "\n",
    "\n",
    "\n",
    "\n",
    "\n"
   ]
  },
  {
   "cell_type": "code",
   "execution_count": null,
   "metadata": {},
   "outputs": [],
   "source": [
    "\n",
    "\n"
   ]
  },
  {
   "cell_type": "code",
   "execution_count": null,
   "metadata": {},
   "outputs": [],
   "source": []
  }
 ],
 "metadata": {
  "kernelspec": {
   "display_name": "Python 3",
   "language": "python",
   "name": "python3"
  },
  "language_info": {
   "codemirror_mode": {
    "name": "ipython",
    "version": 3
   },
   "file_extension": ".py",
   "mimetype": "text/x-python",
   "name": "python",
   "nbconvert_exporter": "python",
   "pygments_lexer": "ipython3",
   "version": "3.7.0"
  }
 },
 "nbformat": 4,
 "nbformat_minor": 2
}

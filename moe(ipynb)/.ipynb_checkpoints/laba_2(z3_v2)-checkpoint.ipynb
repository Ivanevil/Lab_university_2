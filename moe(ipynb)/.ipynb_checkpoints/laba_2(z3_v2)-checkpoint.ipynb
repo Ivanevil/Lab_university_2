{
 "cells": [
  {
   "cell_type": "code",
   "execution_count": 5,
   "metadata": {},
   "outputs": [
    {
     "name": "stdout",
     "output_type": "stream",
     "text": [
      "(1.4107373319920096, 0.9950777958913188)\n"
     ]
    }
   ],
   "source": [
    "# SLAU Newton\n",
    "import numpy as np\n",
    "import math\n",
    "\n",
    "\n",
    "def f(x, y): return math.sin(x - y) - x * y + 1\n",
    "\n",
    "\n",
    "def f1x(x, y): return math.cos(x - y) - y\n",
    "\n",
    "\n",
    "def f1y(x, y): return -math.cos(x - y) - x\n",
    "\n",
    "\n",
    "def g(x, y): return x**2 - y**2 - 1\n",
    "\n",
    "\n",
    "def g1x(x, y): return 2 * x\n",
    "\n",
    "\n",
    "def g1y(x, y): return -2 * y\n",
    "\n",
    "\n",
    "def newt(x0, y0, f, g, eps):\n",
    "    x0 = float(x0)\n",
    "    y0 = float(y0)\n",
    "    A = np.zeros((2, 2))\n",
    "    n = 0\n",
    "    while True:\n",
    "        A[0, 0] = f1x(x0, y0)\n",
    "        A[0, 1] = f1y(x0, y0)\n",
    "        A[1, 0] = g1x(x0, y0)\n",
    "        A[1, 1] = g1y(x0, y0)\n",
    "\n",
    "        B = np.linalg.inv(A)\n",
    "\n",
    "        x1 = x0 - f(x0, y0) * B[0, 0] - g(x0, y0) * B[0, 1]\n",
    "        y1 = y0 - f(x0, y0) * B[1, 0] - g(x0, y0) * B[1, 1]\n",
    "\n",
    "        if (abs(x1 - x0) and abs(y1 - y0)) < eps:\n",
    "            return x1, y1\n",
    "        x0 = x1\n",
    "        y0 = y1\n",
    "        n += 1\n",
    "\n",
    "\n",
    "print(newt(5, 5, f, g, 0.0001))\n"
   ]
  },
  {
   "cell_type": "code",
   "execution_count": null,
   "metadata": {},
   "outputs": [],
   "source": []
  }
 ],
 "metadata": {
  "kernelspec": {
   "display_name": "Python 3",
   "language": "python",
   "name": "python3"
  },
  "language_info": {
   "codemirror_mode": {
    "name": "ipython",
    "version": 3
   },
   "file_extension": ".py",
   "mimetype": "text/x-python",
   "name": "python",
   "nbconvert_exporter": "python",
   "pygments_lexer": "ipython3",
   "version": "3.7.0"
  }
 },
 "nbformat": 4,
 "nbformat_minor": 2
}

{
 "cells": [
  {
   "cell_type": "code",
   "execution_count": 4,
   "metadata": {},
   "outputs": [
    {
     "name": "stdout",
     "output_type": "stream",
     "text": [
      "(1.4074396923463992, 0.9999999999999062)\n"
     ]
    }
   ],
   "source": [
    "# Metod spuska vnutri s Newtonom\n",
    "# Reshenie SNeLU bez podstanovki odnogo v drugoe\n",
    "import math\n",
    "\n",
    "\n",
    "eps = 0.0001\n",
    "\n",
    "\n",
    "def f(x, y):\n",
    "    return math.sin(x - y) - x * y + 1\n",
    "\n",
    "\n",
    "def f1(x, y):\n",
    "    return math.cos(x - y) - y - math.cos(x - y) - x\n",
    "\n",
    "\n",
    "def g(x, y):\n",
    "    return x**2 - y**2 - 1\n",
    "\n",
    "\n",
    "def g1(x, y):\n",
    "    return 2 * x - 2 * y\n",
    "\n",
    "\n",
    "def h(x, y):\n",
    "    return x**2 + y**2 - 6\n",
    "\n",
    "\n",
    "def h1(x, y):\n",
    "    return 2 * x + 2 * y\n",
    "\n",
    "\n",
    "# без подстановки\n",
    "def method2(a, b, hunc, hunc1, gunc, gunc1):\n",
    "    x0 = (a + b) / 2\n",
    "    y = 0\n",
    "\n",
    "    xng = gunc(x0, y)\n",
    "    xng1 = xng - gunc(xng, y) / gunc1(xng, y)\n",
    "\n",
    "    xnh = hunc(x0, y)\n",
    "    xnh1 = xnh - hunc(xnh, y) / hunc1(xnh, y)\n",
    "\n",
    "    while abs(xnh1) > abs(xng1):\n",
    "        xng = gunc(x0, y)\n",
    "        xng1 = xng - gunc(xng, y) / gunc1(xng, y)\n",
    "\n",
    "        while abs(xng1 - xng) > eps:\n",
    "            xng = xng1\n",
    "            xng1 = xng - gunc(xng, y) / gunc1(xng, y)\n",
    "            y += eps\n",
    "           # нашли пересчение при у=0 для g\n",
    "\n",
    "        xnh = hunc(x0, y)\n",
    "        xnh1 = xnh - hunc(xnh, y) / hunc1(xnh, y)\n",
    "        while abs(xnh1 - xnh) > eps:\n",
    "            xnh = xnh1\n",
    "            xnh1 = xnh - hunc(xnh, y) / hunc1(xnh, y)\n",
    "            y += eps\n",
    "           # нашли пересечение при у=0 для h\n",
    "\n",
    "    return -xng1, y\n",
    "\n",
    "\n",
    "def final(a, b, func, func1, gunc, gunc1):\n",
    "    (s, k) = method2(a, b, func, func1, gunc, gunc1)\n",
    "    if k <= 0.1:\n",
    "        (s, k) = method2(a, b, gunc, gunc1, func, func1)\n",
    "    if k <= 0.1:\n",
    "        return print(\"Нет пересечений\")\n",
    "    return (s, k)\n",
    "\n",
    "\n",
    "\n",
    "print(final(0, 1, f, f1, g, g1))"
   ]
  },
  {
   "cell_type": "code",
   "execution_count": 5,
   "metadata": {},
   "outputs": [
    {
     "name": "stdout",
     "output_type": "stream",
     "text": [
      "(1.4107373319920062, 0.9949378002223563, 19)\n"
     ]
    }
   ],
   "source": [
    "import math\n",
    "\n",
    "eps = 0.0001\n",
    "\n",
    "\n",
    "def f(x):\n",
    "    return math.sin(x - math.sqrt(x**2 - 1)) - x * math.sqrt(x**2 - 1) + 1\n",
    "\n",
    "\n",
    "def f1(x):\n",
    "    return (1 - 2 * x**2 + (math.sqrt(x**2 - 1) - x) * math.cos(x - math.sqrt(x**2 - 1))) / (math.sqrt(x**2 - 1))\n",
    "\n",
    "\n",
    "def g(x, y):\n",
    "    return x**2 - y**2 - 1\n",
    "\n",
    "\n",
    "def g1(x, y):\n",
    "    return 2 * x - 2 * y\n",
    "\n",
    "\n",
    "# для способа с подстановкой\n",
    "def method1(a, b):\n",
    "    x0 = (a + b) / 2\n",
    "    xn = f(x0)\n",
    "    xn1 = xn - f(xn) / f1(xn)\n",
    "    n = 0\n",
    "\n",
    "    while abs(xn1 - xn) > eps:\n",
    "        xn = xn1\n",
    "        xn1 = xn - f(xn) / f1(xn)\n",
    "        n += 1\n",
    "\n",
    "    y0 = (a + b) / 2\n",
    "    yn = g(xn1, y0)\n",
    "    yn1 = yn - g(xn1, yn) / g1(xn1, yn)\n",
    "\n",
    "    while abs(yn1 - yn) > eps:\n",
    "        yn = yn1\n",
    "        yn1 = yn - g(xn1, yn) / g1(xn1, yn)\n",
    "        n += 1\n",
    "    return xn1, -yn1, n\n",
    "\n",
    "\n",
    "print(method1(0, 2))\n"
   ]
  },
  {
   "cell_type": "code",
   "execution_count": 6,
   "metadata": {},
   "outputs": [
    {
     "name": "stdout",
     "output_type": "stream",
     "text": [
      "2.449489742803281\n"
     ]
    }
   ],
   "source": [
    "# работает как метод1 заготовка для простой подстановики нужной функции f(x, y) и найдет пересечение с заданным y\n",
    "eps = 0.0001\n",
    "\n",
    "\n",
    "def h(x, y):\n",
    "    return x**2 + y**2 - 6\n",
    "\n",
    "\n",
    "def h1(x, y):\n",
    "    return 2 * x + 2 * y\n",
    "\n",
    "\n",
    "def method3(a, b, func, func1, y):\n",
    "    x0 = (a + b) / 2\n",
    "    xn = func(x0, y)\n",
    "    xn1 = xn - func(xn, y) / func1(xn, y)\n",
    "\n",
    "    while abs(xn1 - xn) > eps:\n",
    "        xn = xn1\n",
    "        xn1 = xn - func(xn, y) / func1(xn, y)\n",
    "\n",
    "    return xn1\n",
    "\n",
    "\n",
    "print(method3(0, 5, h, h1, 0))"
   ]
  },
  {
   "cell_type": "code",
   "execution_count": null,
   "metadata": {},
   "outputs": [],
   "source": []
  },
  {
   "cell_type": "code",
   "execution_count": null,
   "metadata": {},
   "outputs": [],
   "source": []
  },
  {
   "cell_type": "code",
   "execution_count": null,
   "metadata": {},
   "outputs": [],
   "source": []
  },
  {
   "cell_type": "code",
   "execution_count": null,
   "metadata": {},
   "outputs": [],
   "source": []
  }
 ],
 "metadata": {
  "kernelspec": {
   "display_name": "Python 3",
   "language": "python",
   "name": "python3"
  },
  "language_info": {
   "codemirror_mode": {
    "name": "ipython",
    "version": 3
   },
   "file_extension": ".py",
   "mimetype": "text/x-python",
   "name": "python",
   "nbconvert_exporter": "python",
   "pygments_lexer": "ipython3",
   "version": "3.7.0"
  }
 },
 "nbformat": 4,
 "nbformat_minor": 2
}

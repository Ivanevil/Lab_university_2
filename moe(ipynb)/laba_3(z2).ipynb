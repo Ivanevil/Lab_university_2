{
 "cells": [
  {
   "cell_type": "code",
   "execution_count": 11,
   "metadata": {},
   "outputs": [
    {
     "data": {
      "image/png": "[encoded data removed]",
      "text/plain": [
       "<Figure size 432x288 with 1 Axes>"
      ]
     },
     "metadata": {
      "needs_background": "light"
     },
     "output_type": "display_data"
    }
   ],
   "source": [
    "# Интерполяция Лагранжем\n",
    "\n",
    "import numpy as np\n",
    "import matplotlib.pyplot as plt\n",
    "\n",
    "fid = open(\"./data_var07.txt\", \"r\")\n",
    "lines = fid.readlines()\n",
    "fid.close()\n",
    "\n",
    "l1 = [float(lines[i].split(',')[1]) for i in range(1, len(lines))]\n",
    "l1_new = l1[0:10]\n",
    "\n",
    "x = [i for i in range(10)]\n",
    "x_new = [i / 10 for i in range(100)]\n",
    "\n",
    "\n",
    "def lang(x, y, t):\n",
    "    z = 0\n",
    "    for j in range(len(y)):\n",
    "        p1 = 1\n",
    "        p2 = 1\n",
    "        for i in range(len(x)):\n",
    "            if i == j:\n",
    "                p1 = p1 * 1\n",
    "                p2 = p2 * 1\n",
    "            else:\n",
    "                p1 = p1 * (t - x[i])\n",
    "                p2 = p2 * (x[j] - x[i])\n",
    "        z = z + y[j] * (p1 / p2)\n",
    "    return z\n",
    "\n",
    "\n",
    "y_new = [lang(x, l1_new, i) for i in x_new]\n",
    "plt.plot(x_new, y_new)\n",
    "plt.plot(l1_new, \"o\")\n",
    "plt.ylim(26, 30)\n",
    "plt.grid(True)\n",
    "plt.show()"
   ]
  },
  {
   "cell_type": "code",
   "execution_count": null,
   "metadata": {},
   "outputs": [],
   "source": []
  }
 ],
 "metadata": {
  "kernelspec": {
   "display_name": "Python 3",
   "language": "python",
   "name": "python3"
  },
  "language_info": {
   "codemirror_mode": {
    "name": "ipython",
    "version": 3
   },
   "file_extension": ".py",
   "mimetype": "text/x-python",
   "name": "python",
   "nbconvert_exporter": "python",
   "pygments_lexer": "ipython3",
   "version": "3.7.0"
  }
 },
 "nbformat": 4,
 "nbformat_minor": 2
}

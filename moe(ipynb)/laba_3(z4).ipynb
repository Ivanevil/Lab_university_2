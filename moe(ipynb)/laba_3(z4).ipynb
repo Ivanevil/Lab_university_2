{
 "cells": [
  {
   "cell_type": "code",
   "execution_count": 4,
   "metadata": {},
   "outputs": [
    {
     "data": {
      "image/png": "[encoded data removed]",
      "text/plain": [
       "<Figure size 432x288 with 1 Axes>"
      ]
     },
     "metadata": {
      "needs_background": "light"
     },
     "output_type": "display_data"
    }
   ],
   "source": [
    "# Интерполяция Ньютоном 2 ????\n",
    "\n",
    "import numpy as np\n",
    "import matplotlib.pyplot as plt\n",
    "\n",
    "fid = open(\"./data_var07.txt\", \"r\")\n",
    "lines = fid.readlines()\n",
    "fid.close()\n",
    "\n",
    "l1 = [float(lines[i].split(',')[1]) for i in range(1, len(lines))]\n",
    "l1_new = l1[0:5]\n",
    "\n",
    "x = [i for i in range(5)]\n",
    "x_new = [i / 10 for i in range(100)]\n",
    "\n",
    "C = []\n",
    "\n",
    "\n",
    "def product(val, n):\n",
    "    mul = 1\n",
    "    for i in range(n):\n",
    "        if i:\n",
    "            mul *= val + x[i - 1]   # изменение знака на +\n",
    "        yield mul\n",
    "\n",
    "\n",
    "for n in range(len(x)):\n",
    "    p = product(x[n], n + 1)\n",
    "    C.append((l1_new[n] - sum(C[k] * next(p) for k in range(n))) / next(p))\n",
    "\n",
    "\n",
    "def f(v):\n",
    "    return sum(C[k] * p for k, p in enumerate(product(v, len(C))))\n",
    "\n",
    "\n",
    "y_new = [f(i) for i in x_new]\n",
    "plt.plot(x_new, y_new)\n",
    "plt.plot(l1_new, \"o\")\n",
    "plt.ylim(15, 40)\n",
    "plt.grid(True)\n",
    "plt.show()\n"
   ]
  },
  {
   "cell_type": "code",
   "execution_count": null,
   "metadata": {},
   "outputs": [],
   "source": []
  }
 ],
 "metadata": {
  "kernelspec": {
   "display_name": "Python 3",
   "language": "python",
   "name": "python3"
  },
  "language_info": {
   "codemirror_mode": {
    "name": "ipython",
    "version": 3
   },
   "file_extension": ".py",
   "mimetype": "text/x-python",
   "name": "python",
   "nbconvert_exporter": "python",
   "pygments_lexer": "ipython3",
   "version": "3.7.0"
  }
 },
 "nbformat": 4,
 "nbformat_minor": 2
}

{
 "cells": [
  {
   "cell_type": "code",
   "execution_count": 7,
   "metadata": {
    "collapsed": true
   },
   "outputs": [
    {
     "name": "stdout",
     "output_type": "stream",
     "text": [
      "[2, 7, 17, 29, 41, 53, 67, 79, 97, 107, 127, 139, 157, 173, 191, 199, 227, 239, 257, 271, 283, 311, 331, 349, 367, 383, 401, 421, 439, 457, 467, 491, 509, 541, 563, 577, 599, 613, 631, 647, 661, 683, 709, 733, 751, 769, 797, 821, 829, 857, 877, 887, 919, 941, 967, 983]\n"
     ]
    }
   ],
   "source": [
    "l = []\n",
    "n = 1000   # до какого числа\n",
    "s = 3      # шаг\n",
    "for i in range(2, n + 1):\n",
    "    k = 0\n",
    "    for j in range(2, i):\n",
    "        if i % j == 0:\n",
    "            k += 1\n",
    "    if k == 0:\n",
    "        l.append(i)\n",
    "l_new = l[::s]\n",
    "print(l_new)"
   ]
  },
  {
   "cell_type": "code",
   "execution_count": null,
   "metadata": {},
   "outputs": [],
   "source": []
  },
  {
   "cell_type": "code",
   "execution_count": null,
   "metadata": {},
   "outputs": [],
   "source": []
  }
 ],
 "metadata": {
  "kernelspec": {
   "display_name": "Python 3",
   "language": "python",
   "name": "python3"
  },
  "language_info": {
   "codemirror_mode": {
    "name": "ipython",
    "version": 3
   },
   "file_extension": ".py",
   "mimetype": "text/x-python",
   "name": "python",
   "nbconvert_exporter": "python",
   "pygments_lexer": "ipython3",
   "version": "3.7.0"
  }
 },
 "nbformat": 4,
 "nbformat_minor": 2
}

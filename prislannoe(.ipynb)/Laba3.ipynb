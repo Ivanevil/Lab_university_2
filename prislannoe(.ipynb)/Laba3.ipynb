{
 "cells": [
  {
   "cell_type": "code",
   "execution_count": 1,
   "metadata": {},
   "outputs": [
    {
     "data": {
      "text/plain": [
       "<Figure size 640x480 with 1 Axes>"
      ]
     },
     "metadata": {},
     "output_type": "display_data"
    },
    {
     "name": "stdout",
     "output_type": "stream",
     "text": [
      "1.816686791891878 0.16256648849471073\n"
     ]
    }
   ],
   "source": [
    "import math\n",
    "import numpy as np\n",
    "import matplotlib.pyplot as plt\n",
    "\n",
    "\n",
    "def f1(x, y):\n",
    "    return x**3 + y**3 - 6\n",
    "\n",
    "\n",
    "def f2(x, y):\n",
    "    return y - (math.e)**(-x)\n",
    "\n",
    "\n",
    "def f1x(x, y):\n",
    "    return 3 * x**2\n",
    "\n",
    "\n",
    "def f2x(x, y):\n",
    "    return math.log2(math.e) * math.e**(-x)\n",
    "\n",
    "\n",
    "def f1y(x, y):\n",
    "    return 3 * y**2\n",
    "\n",
    "\n",
    "def f2y(x, y):\n",
    "    return 1\n",
    "\n",
    "\n",
    "def y(x):\n",
    "    return (math.e)**(-x)\n",
    "\n",
    "\n",
    "x = []\n",
    "p = []\n",
    "for i in np.arange(0, 3, 0.5):\n",
    "    p.append(f1(i, y(i)))\n",
    "    x.append(i)\n",
    "plt.plot(x, p)\n",
    "plt.grid()\n",
    "plt.show()\n",
    "\n",
    "\n",
    "x1 = 1.7\n",
    "y1 = y(x1)\n",
    "eps = 0.0001\n",
    "g = (f1(x1, y1) * f2y(x1, y1) - f2(x1, y1) * f1y(x1, y1)) / (f1x(x1, y1) * f2y(x1, y1) - f1y(x1, y1) * f2x(x1, y1))\n",
    "h = (f1x(x1, y1) * f2(x1, y1) - f2x(x1, y1) * f1(x1, y1)) / (f1x(x1, y1) * f2y(x1, y1) - f1y(x1, y1) * f2x(x1, y1))\n",
    "x2 = x1 - g\n",
    "y2 = y1 - h\n",
    "while (math.sqrt((x2 - x1)**2 + (y2 - y1)**2) > eps):\n",
    "    x1 = x2\n",
    "    y1 = y2\n",
    "    g = (f1(x1, y1) * f2y(x1, y1) - f2(x1, y1) * f1y(x1, y1)) / (f1x(x1, y1) * f2y(x1, y1) - f1y(x1, y1) * f2x(x1, y1))\n",
    "    h = (f1x(x1, y1) * f2(x1, y1) - f2x(x1, y1) * f1(x1, y1)) / (f1x(x1, y1) * f2y(x1, y1) - f1y(x1, y1) * f2x(x1, y1))\n",
    "    x2 = x1 - g\n",
    "    y2 = y1 - h\n",
    "print(x1, y1)\n"
   ]
  }
 ],
 "metadata": {
  "kernelspec": {
   "display_name": "Python 3",
   "language": "python",
   "name": "python3"
  },
  "language_info": {
   "codemirror_mode": {
    "name": "ipython",
    "version": 3
   },
   "file_extension": ".py",
   "mimetype": "text/x-python",
   "name": "python",
   "nbconvert_exporter": "python",
   "pygments_lexer": "ipython3",
   "version": "3.7.0"
  }
 },
 "nbformat": 4,
 "nbformat_minor": 2
}

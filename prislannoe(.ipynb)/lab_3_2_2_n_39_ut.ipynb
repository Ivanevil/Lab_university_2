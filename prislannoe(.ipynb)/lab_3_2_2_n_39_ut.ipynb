{
 "cells": [
  {
   "cell_type": "code",
   "execution_count": null,
   "metadata": {},
   "outputs": [],
   "source": [
    "import math\n",
    "\n",
    "\n",
    "def f(x):\n",
    "    return 5**x - 6 * x - 3\n",
    "\n",
    "\n",
    "def fx(x):\n",
    "    return math.log2(5) * 5**x - 6\n",
    "\n",
    "\n",
    "def fxx(x):\n",
    "    return ((math.log2(5))**2) * 5**x\n",
    "\n",
    "\n",
    "def xn(b):\n",
    "    return b - f(b) / fx(b)\n",
    "\n",
    "\n",
    "a = 1\n",
    "b = 2\n",
    "eps = 0.0001\n",
    "c = (a + b) / 2\n",
    "\n",
    "if (fx(c) * fxx(c) > 0):\n",
    "    x1 = xn(b)\n",
    "    b = x1\n",
    "    x2 = xn(b)\n",
    "    while(abs(x2 - x1) / x1 > eps):\n",
    "        x1 = x2\n",
    "        b = x2\n",
    "        x2 = xn(b)\n",
    "    print(x1)\n",
    "else:\n",
    "    x1 = xn(a)\n",
    "    a = x1\n",
    "    x2 = xn(a)\n",
    "    while(abs(x2 - x1) / x1 > eps):\n",
    "        x1 = x2\n",
    "        a = x2\n",
    "        x2 = xn(a)\n",
    "    print(x1)\n"
   ]
  }
 ],
 "metadata": {
  "kernelspec": {
   "display_name": "Python 3",
   "language": "python",
   "name": "python3"
  },
  "language_info": {
   "codemirror_mode": {
    "name": "ipython",
    "version": 3
   },
   "file_extension": ".py",
   "mimetype": "text/x-python",
   "name": "python",
   "nbconvert_exporter": "python",
   "pygments_lexer": "ipython3",
   "version": "3.7.0"
  }
 },
 "nbformat": 4,
 "nbformat_minor": 2
}

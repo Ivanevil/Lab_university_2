{
 "cells": [
  {
   "cell_type": "code",
   "execution_count": 1,
   "metadata": {},
   "outputs": [
    {
     "name": "stdout",
     "output_type": "stream",
     "text": [
      "1 2\n",
      "31.5 93.0\n",
      "1.6383868852028378\n"
     ]
    }
   ],
   "source": [
    "a = 0\n",
    "b = 0\n",
    "eps = 0.0001\n",
    "\n",
    "\n",
    "def f(x):\n",
    "    return 3 * x**4 + 4 * x**3 - 12 * x**2 - 7\n",
    "\n",
    "\n",
    "def fx(x):\n",
    "    return 12 * x**3 + 12 * x**2 - 24 * x\n",
    "\n",
    "\n",
    "def fxx(x):\n",
    "    return 36 * x**2 + 24 * x - 24\n",
    "\n",
    "\n",
    "def xn(a, b):\n",
    "    return a - f(a) * (b - a) / (f(b) - f(a))\n",
    "\n",
    "\n",
    "def xnn(a, b):\n",
    "    return b - f(b) * (b - a) / (f(b) - f(a))\n",
    "\n",
    "\n",
    "for i in range(-50, 50):\n",
    "    if (f(i) * f(i + 1) < 0):\n",
    "        a = i\n",
    "        b = i + 1\n",
    "print(a, b)\n",
    "c = (a + b) / 2\n",
    "print(fx(c), fxx(c))\n",
    "if(fx(c) * fxx(c) > 0):\n",
    "    x1 = xn(a, b)\n",
    "    a = x1\n",
    "    x2 = xn(a, b)\n",
    "    while (abs(x2 - x1) > eps):\n",
    "        x1 = x2\n",
    "        a = x2\n",
    "        x2 = xn(a, b)\n",
    "    print(x1)\n",
    "else:\n",
    "    x1 = xn(a, b)\n",
    "    a = x1\n",
    "    x2 = xn(a, b)\n",
    "    while (abs(x2 - x1) > eps):\n",
    "        x1 = x2\n",
    "        a = x2\n",
    "        x2 = xn(a, b)\n",
    "    print(x1)\n"
   ]
  }
 ],
 "metadata": {
  "kernelspec": {
   "display_name": "Python 3",
   "language": "python",
   "name": "python3"
  },
  "language_info": {
   "codemirror_mode": {
    "name": "ipython",
    "version": 3
   },
   "file_extension": ".py",
   "mimetype": "text/x-python",
   "name": "python",
   "nbconvert_exporter": "python",
   "pygments_lexer": "ipython3",
   "version": "3.7.0"
  }
 },
 "nbformat": 4,
 "nbformat_minor": 2
}

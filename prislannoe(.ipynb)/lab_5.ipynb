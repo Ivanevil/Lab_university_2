{
 "cells": [
  {
   "cell_type": "code",
   "execution_count": 1,
   "metadata": {},
   "outputs": [
    {
     "name": "stdout",
     "output_type": "stream",
     "text": [
      "[[ 10.       1.       0.     ...,   0.       0.       0.    ]\n",
      " [  1.      10.1801   1.     ...,   0.       0.       0.    ]\n",
      " [  0.       1.       9.9406 ...,   0.       0.       0.    ]\n",
      " ..., \n",
      " [  0.       0.       0.     ...,   9.9999   1.       0.    ]\n",
      " [  0.       0.       0.     ...,   1.       9.9999   1.    ]\n",
      " [  0.       0.       0.     ...,   0.       1.       1.    ]]\n"
     ]
    }
   ],
   "source": [
    "import numpy as np\n",
    "import math as mt\n",
    "def coeff(i):\n",
    "    return 10+(mt.cos(i)/(i**2+i+1))\n",
    "n = 100\n",
    "M=np.zeros((n,n))\n",
    "M[0,0] = 10\n",
    "M[n-1,n-1] = 1\n",
    "M[n-1,n-2] = 1\n",
    "M[n-2,n-1] = 1\n",
    "for i in range(1,n-1):\n",
    "    M[i, i] = coeff(i)\n",
    "    M[i-1, i] = 1\n",
    "    M[i, i-1] = 1\n",
    "np.set_printoptions(suppress=True, precision =4, linewidth=100)\n",
    "print(M)"
   ]
  },
  {
   "cell_type": "markdown",
   "metadata": {},
   "source": [
    "$${\\large Задание 4 и 4+}$$\n",
    "\n",
    "Решить для n=1000 и n=10000 методом Гаусса-Зейделя систему \n",
    "$$x_1 = 10$$\n",
    "$$x_{i-1}+(10+cos(i)/(i^2+i+1))x_i+x_{i+1}= -10+\\int_0^5\\frac{sin(t+5)}{1+it+it^2}dt, i=\\overline{2,n-1}$$\n",
    "$$x_n = 1$$\n",
    "\n",
    "Метод Гаусс-Зейделя\n",
    "\n",
    "Итерационными называются приближенные методы, в которых решение системы получается как предел последовательности векторов $$(x^k)_{k=1}^{\\infty}$$, каждый последующий элемент которой вычисляется по некоторому единому правилу. Начальный элемент $$x^1$$ выбирается произвольно.\n",
    "Условие сходимости\n",
    "$${\\parallel\\frac{x^{k+1}-x^{k}}{x^k}\\parallel < \\epsilon}$$\n",
    "\n",
    "Покоординатная форма\n",
    "\n",
    "$$x_1^{k+1} = (b_1-a_{12}x_2^k - ... - a_{1n}x_n^k)/a_{11}$$\n",
    "$$x_2^{k+1} = (b_2-a_{21}x_2^{k+1} - ... - a_{2n}x_n^k)/a_{22}$$\n",
    "$$...................................$$\n",
    "$$x_n^{k+1} = (b_n-a_{n1}x_1^{k+1} - ... - a_{nn-1}x_{n-1}^{k+1})/a_{nn}$$"
   ]
  },
  {
   "cell_type": "code",
   "execution_count": 7,
   "metadata": {
    "collapsed": true
   },
   "outputs": [],
   "source": [
    "import scipy as sp\n",
    "import numpy as np\n",
    "import matplotlib.pyplot as plt\n",
    "import math as mt"
   ]
  },
  {
   "cell_type": "code",
   "execution_count": 3,
   "metadata": {},
   "outputs": [
    {
     "data": {
      "image/png": "[encoded data removed]",
      "text/plain": [
       "<matplotlib.figure.Figure at 0x11f439b8d0>"
      ]
     },
     "metadata": {},
     "output_type": "display_data"
    },
    {
     "data": {
      "image/png": "[encoded data removed]",
      "text/plain": [
       "<matplotlib.figure.Figure at 0x11f48b6cf8>"
      ]
     },
     "metadata": {},
     "output_type": "display_data"
    }
   ],
   "source": [
    "e = 0.001\n",
    "n = 100\n",
    "def f(t, p):\n",
    "    s = np.sin(t-5)/(1+p*t+p*(t**2))\n",
    "    return s\n",
    "def integral(i, p):\n",
    "    s = 0\n",
    "    l = 5/i\n",
    "    anach = np.arange(0, 5, l)\n",
    "    bkonh = np.arange(l, 5+l, l)\n",
    "    s += ((bkonh-anach)/90)*(7*f(anach, p) + 32*f((3*anach+bkonh)/4, p) + 12*f((anach+bkonh)/2, p) + 32*f((anach+3*bkonh)/4, p)+7*f(bkonh, p))\n",
    "#     print(s)\n",
    "    return s\n",
    "N = np.zeros((n))\n",
    "y = []\n",
    "x = []\n",
    "for k in range (n):\n",
    "    i=1\n",
    "    a=1\n",
    "    b=0\n",
    "    w=0\n",
    "    Flag = False\n",
    "#     print(integral(i, k)/integral(i*2, k)-1)\n",
    "    while Flag==False :\n",
    "        b = a\n",
    "        a = np.sum(integral(i, k))\n",
    "#         print(a, b, abs(a/b-1))\n",
    "        if (abs(a/b-1) < e):\n",
    "            Flag = True\n",
    "        \n",
    "        if k==1:\n",
    "            y.append(np.sum(integral(i, k)))\n",
    "            x.append(i)\n",
    "            w= w+1\n",
    "        i=i*2 \n",
    "#         print(i)\n",
    "    N[k]=np.sum(integral(i, k)) - 10\n",
    "x1 = np.zeros((n))\n",
    "y1 = np.zeros((n))\n",
    "for i in range (n):\n",
    "    x1[i] = i\n",
    "    y1[i]=f(i, 1)\n",
    "#     print(N[k])\n",
    "plt.plot(x, y)\n",
    "plt.grid()\n",
    "plt.show()\n",
    "plt.plot(x1, y1)\n",
    "plt.grid()\n",
    "plt.show()"
   ]
  },
  {
   "cell_type": "code",
   "execution_count": 4,
   "metadata": {
    "scrolled": false
   },
   "outputs": [
    {
     "name": "stdout",
     "output_type": "stream",
     "text": [
      "1\n",
      "2\n",
      "3\n",
      "4\n",
      "5\n"
     ]
    },
    {
     "data": {
      "image/png": "[encoded data removed]",
      "text/plain": [
       "<matplotlib.figure.Figure at 0x11f48cef28>"
      ]
     },
     "metadata": {},
     "output_type": "display_data"
    },
    {
     "data": {
      "image/png": "[encoded data removed]",
      "text/plain": [
       "<matplotlib.figure.Figure at 0x11f487e2b0>"
      ]
     },
     "metadata": {},
     "output_type": "display_data"
    }
   ],
   "source": [
    "import numpy as np\n",
    "import math as mt\n",
    "import copy\n",
    "import matplotlib.pyplot as plt\n",
    "xk=np.zeros(n)\n",
    "for i in range(n):\n",
    "    xk[i]= 1\n",
    "xk1 = np.zeros(n)\n",
    "b = np.zeros(n)\n",
    "for i in range(n):\n",
    "    b[i]=1\n",
    "eps = 0.01\n",
    "norma = 1\n",
    "m =0\n",
    "Norm = list()\n",
    "x = list()\n",
    "xx = list()\n",
    "for i in range(n):\n",
    "    xx.append(i)\n",
    "while(norma>eps):\n",
    "#     Заполняем координаты k+1 вектора\n",
    "    H = 0\n",
    "    for i in range(n):\n",
    "        sum = 0\n",
    "        for j in range(n):\n",
    "            if(j <i):\n",
    "                sum += M[i, j]*xk1[j]  \n",
    "            if(j>i):\n",
    "                sum += M[i,j]*xk[j]\n",
    "        xk1[i] =(N[i] -sum)/M[i, i]\n",
    "        H+= ((xk1[i]-xk[i]))**2\n",
    "    norma = mt.sqrt(H)\n",
    "    Norm.append(norma)\n",
    "    x.append(m+1)\n",
    "    xx\n",
    "    xk = copy.copy(xk1)\n",
    "    xk1 = np.zeros(n)\n",
    "    m+=1\n",
    "    print(m)\n",
    "# print(xk)\n",
    "plt.plot(x, Norm)\n",
    "plt.grid()\n",
    "plt.show()\n",
    "plt.plot(xx, xk)\n",
    "plt.grid()\n",
    "plt.show()"
   ]
  },
  {
   "cell_type": "markdown",
   "metadata": {},
   "source": [
    "$${\\large Задание 5 и 5+}$$\n",
    "\n",
    "Построить график решения X(i), а также график зависимости нормы решения от номера итерации предлагаемого метода численного решения системы.\n",
    "\n",
    "Решить систему с помощью функции numpy.linalg.solve(…). Результат графически сравнить с решением, полученным в пункте 3. Разницу объяснит."
   ]
  },
  {
   "cell_type": "code",
   "execution_count": 5,
   "metadata": {},
   "outputs": [
    {
     "name": "stdout",
     "output_type": "stream",
     "text": [
      "[ -0.9963  -0.753   -0.806   -0.8087  -0.8094  -0.8093  -0.8106  -0.813   -0.8155  -0.8173  -0.8181\n",
      "  -0.8184  -0.8188  -0.8196  -0.8205  -0.8213  -0.8218  -0.8221  -0.8223  -0.8226  -0.8231  -0.8236\n",
      "  -0.824   -0.8242  -0.8243  -0.8245  -0.8248  -0.8251  -0.8253  -0.8255  -0.8256  -0.8257  -0.8259\n",
      "  -0.8261  -0.8263  -0.8265  -0.8266  -0.8266  -0.8268  -0.8269  -0.8271  -0.8272  -0.8273  -0.8273\n",
      "  -0.8274  -0.8275  -0.8277  -0.8278  -0.8278  -0.8279  -0.8279  -0.828   -0.8281  -0.8282  -0.8283\n",
      "  -0.8283  -0.8284  -0.8284  -0.8285  -0.8286  -0.8287  -0.8287  -0.8287  -0.8288  -0.8289  -0.8289\n",
      "  -0.829   -0.829   -0.829   -0.8291  -0.8291  -0.8292  -0.8292  -0.8293  -0.8293  -0.8293  -0.8294\n",
      "  -0.8294  -0.8295  -0.8295  -0.8295  -0.8296  -0.8296  -0.8296  -0.8297  -0.8297  -0.8298  -0.8298\n",
      "  -0.8298  -0.8298  -0.8299  -0.8299  -0.8299  -0.83    -0.8299  -0.831   -0.8205  -0.9243   0.1027\n",
      " -10.0641]\n"
     ]
    }
   ],
   "source": [
    "import numpy as np\n",
    "b = np.zeros(n)\n",
    "for i in range(n):\n",
    "    b[i]=1\n",
    "prov = np.linalg.solve(M, N)\n",
    "print(prov)\n"
   ]
  },
  {
   "cell_type": "code",
   "execution_count": 6,
   "metadata": {},
   "outputs": [
    {
     "data": {
      "image/png": "[encoded data removed]",
      "text/plain": [
       "<matplotlib.figure.Figure at 0x11f498a7f0>"
      ]
     },
     "metadata": {},
     "output_type": "display_data"
    }
   ],
   "source": [
    "plt.plot(xx, xk)\n",
    "plt.plot(xx, prov)\n",
    "plt.grid()\n",
    "plt.show()"
   ]
  },
  {
   "cell_type": "code",
   "execution_count": null,
   "metadata": {
    "collapsed": true
   },
   "outputs": [],
   "source": []
  }
 ],
 "metadata": {
  "kernelspec": {
   "display_name": "Python 3",
   "language": "python",
   "name": "python3"
  },
  "language_info": {
   "codemirror_mode": {
    "name": "ipython",
    "version": 3
   },
   "file_extension": ".py",
   "mimetype": "text/x-python",
   "name": "python",
   "nbconvert_exporter": "python",
   "pygments_lexer": "ipython3",
   "version": "3.7.0"
  }
 },
 "nbformat": 4,
 "nbformat_minor": 2
}

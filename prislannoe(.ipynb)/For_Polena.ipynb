{
 "cells": [
  {
   "cell_type": "code",
   "execution_count": 3,
   "metadata": {},
   "outputs": [
    {
     "ename": "ModuleNotFoundError",
     "evalue": "No module named 'scipy'",
     "output_type": "error",
     "traceback": [
      "\u001b[1;31m---------------------------------------------------------------------------\u001b[0m",
      "\u001b[1;31mModuleNotFoundError\u001b[0m                       Traceback (most recent call last)",
      "\u001b[1;32m<ipython-input-3-0e906ba0ec41>\u001b[0m in \u001b[0;36m<module>\u001b[1;34m()\u001b[0m\n\u001b[1;32m----> 1\u001b[1;33m \u001b[1;32mimport\u001b[0m \u001b[0mscipy\u001b[0m \u001b[1;32mas\u001b[0m \u001b[0msp\u001b[0m\u001b[1;33m\u001b[0m\u001b[0m\n\u001b[0m\u001b[0;32m      2\u001b[0m \u001b[1;32mimport\u001b[0m \u001b[0mnumpy\u001b[0m \u001b[1;32mas\u001b[0m \u001b[0mnp\u001b[0m\u001b[1;33m\u001b[0m\u001b[0m\n\u001b[0;32m      3\u001b[0m \u001b[1;32mfrom\u001b[0m \u001b[0mnumpy\u001b[0m \u001b[1;32mimport\u001b[0m \u001b[1;33m*\u001b[0m\u001b[1;33m\u001b[0m\u001b[0m\n\u001b[0;32m      4\u001b[0m \u001b[1;32mimport\u001b[0m \u001b[0mmatplotlib\u001b[0m\u001b[1;33m.\u001b[0m\u001b[0mpyplot\u001b[0m \u001b[1;32mas\u001b[0m \u001b[0mplt\u001b[0m\u001b[1;33m\u001b[0m\u001b[0m\n\u001b[0;32m      5\u001b[0m \u001b[1;32mimport\u001b[0m \u001b[0mmath\u001b[0m\u001b[1;33m\u001b[0m\u001b[0m\n",
      "\u001b[1;31mModuleNotFoundError\u001b[0m: No module named 'scipy'"
     ]
    }
   ],
   "source": [
    "import scipy as sp\n",
    "import numpy as np\n",
    "from numpy import *\n",
    "import matplotlib.pyplot as plt\n",
    "import math\n",
    "import pylab\n",
    "from matplotlib import mlab\n",
    "\n",
    "\n",
    "def f(t, p):\n",
    "    n = np.sin(t) * np.exp(- p * t)\n",
    "    return n\n",
    "\n",
    "\n",
    "def simpson(a, b, p):\n",
    "    fla = ((b - a) / 8) * (f(a, p) + 3 * f((2 * a + b) / 3, p) + 3 * f((a + 2 * b) / 3, p) + f(b, p))\n",
    "    return (fla)\n",
    "\n",
    "\n",
    "def rims(i):\n",
    "    mas = []\n",
    "    it1 = simpson(0, 1, i)\n",
    "    mas.append(it1)\n",
    "    it2 = simpson(0, 0.5, i) + simpson(0.5, 1, i)\n",
    "    mas.append(it2)\n",
    "    j = 2\n",
    "    while (abs(it1 / it2 - 1) > 0.01):\n",
    "        j += 1\n",
    "        it1 = it2\n",
    "        it2 = 0\n",
    "        for k in range(j):\n",
    "            it2 += simpson(k / j, (k + 1) / j, i)\n",
    "        mas.append(it2)\n",
    "    #print (j)\n",
    "    return (mas)\n",
    "\n",
    "    # return (it2)\n",
    "\n",
    "\n",
    "mas = rims(100)\n",
    "print(mas)\n",
    "print(len(mas))\n",
    "dlina = len(mas)\n",
    "\n",
    "int = []\n",
    "int.append(0)\n",
    "i = 1\n",
    "while i < 100:\n",
    "    mas = rims(i)\n",
    "    int.append(mas[len(mas) - 1])\n",
    "    i += 1\n",
    "\n",
    "\n",
    "tlist = mlab.frange(0, 1, 0.001)\n",
    "ylist = [f(t, 100) for t in tlist]\n",
    "plt.xlabel('x')\n",
    "plt.ylabel('y')\n",
    "plt.title('Ãðàôèê ïîäûíòåãðàëüíîé ôóíêöèè')\n",
    "pylab.plot(tlist, ylist)\n",
    "plt.grid(True)\n",
    "pylab.show()\n",
    "\n",
    "\n",
    "xlist = mlab.frange(1, dlina, 1)\n",
    "ylist = mas\n",
    "#plt.axis([-10, 10, -10,10])\n",
    "plt.xlabel('x')\n",
    "plt.ylabel('y')\n",
    "plt.title('Çíà÷åíèå èíòåãðàëà îò íîìåðà èòåðàöèè')\n",
    "pylab.plot(xlist, ylist)\n",
    "plt.grid(True)\n",
    "pylab.show()\n"
   ]
  }
 ],
 "metadata": {
  "kernelspec": {
   "display_name": "Python 3",
   "language": "python",
   "name": "python3"
  },
  "language_info": {
   "codemirror_mode": {
    "name": "ipython",
    "version": 3
   },
   "file_extension": ".py",
   "mimetype": "text/x-python",
   "name": "python",
   "nbconvert_exporter": "python",
   "pygments_lexer": "ipython3",
   "version": "3.7.0"
  }
 },
 "nbformat": 4,
 "nbformat_minor": 2
}

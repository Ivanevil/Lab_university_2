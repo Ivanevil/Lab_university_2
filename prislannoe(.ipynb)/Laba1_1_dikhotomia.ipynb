{
 "cells": [
  {
   "cell_type": "code",
   "execution_count": null,
   "metadata": {},
   "outputs": [],
   "source": [
    "a = 0\n",
    "b = 0\n",
    "eps = 0.001\n",
    "\n",
    "\n",
    "def f(x):\n",
    "    return 3 * x**4 + 4 * x**3 - 12 * x**2 - 7\n",
    "\n",
    "\n",
    "for i in range(-50, 50):\n",
    "    if (f(i) * f(i + 1) < 0):\n",
    "        a = i\n",
    "        b = i + 1\n",
    "print(a, b)\n",
    "c = (a + b) / 2\n",
    "y = f(c)\n",
    "while(abs(y) > eps):\n",
    "    c = (a + b) / 2\n",
    "    y = f(c)\n",
    "    if(f(a) * y < 0):\n",
    "        b = c\n",
    "    else:\n",
    "        a = c\n",
    "print(c)\n"
   ]
  }
 ],
 "metadata": {
  "kernelspec": {
   "display_name": "Python 3",
   "language": "python",
   "name": "python3"
  },
  "language_info": {
   "codemirror_mode": {
    "name": "ipython",
    "version": 3
   },
   "file_extension": ".py",
   "mimetype": "text/x-python",
   "name": "python",
   "nbconvert_exporter": "python",
   "pygments_lexer": "ipython3",
   "version": "3.7.0"
  }
 },
 "nbformat": 4,
 "nbformat_minor": 2
}

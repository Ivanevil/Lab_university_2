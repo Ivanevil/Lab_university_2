{
 "cells": [
  {
   "cell_type": "code",
   "execution_count": null,
   "metadata": {},
   "outputs": [],
   "source": [
    "import math\n",
    "\n",
    "\n",
    "def f(x):\n",
    "    return 5**x - math.e**(-x) - 1\n",
    "\n",
    "\n",
    "def fx(x):\n",
    "    return math.log2(5) * 5**x - math.log2(math.e) * math.e**(-x)\n",
    "\n",
    "\n",
    "def fxx(x):\n",
    "    return ((math.log2(5))**2) * 5**x - (math.log2(math.e))**2 * math.e**(-x)\n",
    "\n",
    "\n",
    "def new(b):\n",
    "    return b - f(b) / fx(b)\n",
    "\n",
    "\n",
    "a = 0\n",
    "b = 1\n",
    "eps = 0.0001\n",
    "c = (a + b) / 2\n",
    "\n",
    "if (fx(c) * fxx(c) > 0):\n",
    "    x1 = new(b)\n",
    "    b = x1\n",
    "    x2 = new(b)\n",
    "    while(abs(x2 - x1) / x1 > eps):\n",
    "        x1 = x2\n",
    "        b = x2\n",
    "        x2 = new(b)\n",
    "    print(x1)\n",
    "else:\n",
    "    x1 = new(a)\n",
    "    a = x1\n",
    "    x2 = new(a)\n",
    "    while(abs(x2 - x1) / x1 > eps):\n",
    "        x1 = x2\n",
    "        a = x2\n",
    "        x2 = new(a)\n",
    "    print(x1)\n"
   ]
  }
 ],
 "metadata": {
  "kernelspec": {
   "display_name": "Python 3",
   "language": "python",
   "name": "python3"
  },
  "language_info": {
   "codemirror_mode": {
    "name": "ipython",
    "version": 3
   },
   "file_extension": ".py",
   "mimetype": "text/x-python",
   "name": "python",
   "nbconvert_exporter": "python",
   "pygments_lexer": "ipython3",
   "version": "3.7.0"
  }
 },
 "nbformat": 4,
 "nbformat_minor": 2
}

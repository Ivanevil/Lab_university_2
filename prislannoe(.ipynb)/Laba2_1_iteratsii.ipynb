{
 "cells": [
  {
   "cell_type": "code",
   "execution_count": 1,
   "metadata": {},
   "outputs": [
    {
     "data": {
      "text/plain": [
       "<Figure size 640x480 with 1 Axes>"
      ]
     },
     "metadata": {},
     "output_type": "display_data"
    },
    {
     "name": "stdout",
     "output_type": "stream",
     "text": [
      "0.33574985462095747\n"
     ]
    }
   ],
   "source": [
    "import matplotlib.pyplot as plt\n",
    "import math\n",
    "\n",
    "\n",
    "def f1(x):\n",
    "    return 5**x - math.e**(-x) - 1\n",
    "\n",
    "\n",
    "y1 = []\n",
    "y2 = []\n",
    "x = range(-1, 3)\n",
    "for i in range(-1, 3):\n",
    "    y1.append(f1(i))\n",
    "plt.plot(x, y1)\n",
    "plt.grid(True)\n",
    "plt.show()\n",
    "\n",
    "x1 = 1\n",
    "eps = 0.0001\n",
    "gamm = 0.05\n",
    "x2 = x1 - gamm * f1(x1)\n",
    "while (abs(x2 - x1) > eps):\n",
    "    x1 = x2\n",
    "    x2 = x1 - gamm * f1(x1)\n",
    "print(x1)\n"
   ]
  },
  {
   "cell_type": "code",
   "execution_count": null,
   "metadata": {},
   "outputs": [],
   "source": []
  }
 ],
 "metadata": {
  "kernelspec": {
   "display_name": "Python 3",
   "language": "python",
   "name": "python3"
  },
  "language_info": {
   "codemirror_mode": {
    "name": "ipython",
    "version": 3
   },
   "file_extension": ".py",
   "mimetype": "text/x-python",
   "name": "python",
   "nbconvert_exporter": "python",
   "pygments_lexer": "ipython3",
   "version": "3.7.0"
  }
 },
 "nbformat": 4,
 "nbformat_minor": 2
}

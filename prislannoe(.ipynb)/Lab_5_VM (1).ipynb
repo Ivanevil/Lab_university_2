{
 "cells": [
  {
   "cell_type": "code",
   "execution_count": 2,
   "metadata": {
    "collapsed": true
   },
   "outputs": [],
   "source": [
    "import scipy as sp\n",
    "import numpy as np\n",
    "import matplotlib.pyplot as plt\n",
    "import math as mt"
   ]
  },
  {
   "cell_type": "code",
   "execution_count": 8,
   "metadata": {},
   "outputs": [
    {
     "data": {
      "image/png": "[encoded data removed]",
      "text/plain": [
       "<matplotlib.figure.Figure at 0x4e95030>"
      ]
     },
     "metadata": {},
     "output_type": "display_data"
    },
    {
     "data": {
      "image/png": "[encoded data removed]",
      "text/plain": [
       "<matplotlib.figure.Figure at 0x5038fd0>"
      ]
     },
     "metadata": {},
     "output_type": "display_data"
    }
   ],
   "source": [
    "e = 0.001\n",
    "n = 100\n",
    "def f(t, p):\n",
    "    s = np.sin(t-5)/(1+p*t+p*(t**2))\n",
    "    return s\n",
    "def integral(i, p):\n",
    "    s = 0\n",
    "    l = 5/i\n",
    "    anach = np.arange(0, 5, l)\n",
    "    bkonh = np.arange(l, 5+l, l)\n",
    "    s += ((bkonh-anach)/90)*(7*f(anach, p) + 32*f((3*anach+bkonh)/4, p) + 12*f((anach+bkonh)/2, p) + 32*f((anach+3*bkonh)/4, p)+7*f(bkonh, p))\n",
    "#     print(s)\n",
    "    return s\n",
    "N = np.zeros((n))\n",
    "y = []\n",
    "x = []\n",
    "for k in range (n):\n",
    "    i=1\n",
    "    a=1\n",
    "    b=0\n",
    "    w=0\n",
    "    Flag = False\n",
    "#     print(integral(i, k)/integral(i*2, k)-1)\n",
    "    while Flag==False :\n",
    "        b = a\n",
    "        a = np.sum(integral(i, k))\n",
    "#         print(a, b, abs(a/b-1))\n",
    "        if (abs(a/b-1) < e):\n",
    "            Flag = True\n",
    "        \n",
    "        if k==1:\n",
    "            y.append(np.sum(integral(i, k)))\n",
    "            x.append(i)\n",
    "            w= w+1\n",
    "        i=i*2 \n",
    "#         print(i)\n",
    "    N[k]=np.sum(integral(i, k)) - 10\n",
    "x1 = np.zeros((n))\n",
    "y1 = np.zeros((n))\n",
    "for i in range (n):\n",
    "    x1[i] = i\n",
    "    y1[i]=f(i, 1)\n",
    "#     print(N[k])\n",
    "plt.plot(x, y)\n",
    "plt.grid()\n",
    "plt.show()\n",
    "plt.plot(x1, y1)\n",
    "plt.grid()\n",
    "plt.show()"
   ]
  },
  {
   "cell_type": "code",
   "execution_count": null,
   "metadata": {
    "collapsed": true
   },
   "outputs": [],
   "source": [
    "\n"
   ]
  },
  {
   "cell_type": "code",
   "execution_count": null,
   "metadata": {
    "collapsed": true
   },
   "outputs": [],
   "source": []
  }
 ],
 "metadata": {
  "kernelspec": {
   "display_name": "Python 3",
   "language": "python",
   "name": "python3"
  },
  "language_info": {
   "codemirror_mode": {
    "name": "ipython",
    "version": 3
   },
   "file_extension": ".py",
   "mimetype": "text/x-python",
   "name": "python",
   "nbconvert_exporter": "python",
   "pygments_lexer": "ipython3",
   "version": "3.7.0"
  }
 },
 "nbformat": 4,
 "nbformat_minor": 2
}

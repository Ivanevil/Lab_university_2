{
 "cells": [
  {
   "cell_type": "code",
   "execution_count": 2,
   "metadata": {
    "collapsed": true
   },
   "outputs": [],
   "source": [
    "import scipy as sp\n",
    "import numpy as np\n",
    "import matplotlib.pyplot as plt\n",
    "import math as mt\n",
    "import copy"
   ]
  },
  {
   "cell_type": "markdown",
   "metadata": {},
   "source": [
    "## Лабораторная работа №5\n",
    "Численное решение системы линейных уравнений, численное интегрирование"
   ]
  },
  {
   "cell_type": "markdown",
   "metadata": {},
   "source": [
    "** Цель работы: **\n",
    "научиться считать определенные интеграллы и решать системы линейных уравнений численными методами и с помощью встроенных библиотек. "
   ]
  },
  {
   "cell_type": "markdown",
   "metadata": {},
   "source": [
    "** Вычисление интеграла :  **\n",
    "используем квадратурную формулу Буля(n=4)\n",
    "$$ \\sum^{4}_{k=0}C^{(4)}_{k}f(x_{k}^{(4)}) = \\frac{(\\beta - \\alpha)}{90}(7f(\\alpha) + 32f(\\frac{3\\alpha +\\beta}{4}) + 12f(\\frac{\\alpha +\\beta}{2}+ 32f(\\frac{\\alpha +3\\beta}{4}) + 7f(\\beta)) $$"
   ]
  },
  {
   "cell_type": "code",
   "execution_count": 1,
   "metadata": {},
   "outputs": [
    {
     "ename": "NameError",
     "evalue": "name 'np' is not defined",
     "output_type": "error",
     "traceback": [
      "\u001b[0;31m---------------------------------------------------------------------------\u001b[0m",
      "\u001b[0;31mNameError\u001b[0m                                 Traceback (most recent call last)",
      "\u001b[0;32m<ipython-input-1-3dc7eeb08926>\u001b[0m in \u001b[0;36m<module>\u001b[0;34m()\u001b[0m\n\u001b[1;32m     20\u001b[0m         \u001b[0mprint\u001b[0m\u001b[1;33m(\u001b[0m\u001b[0mnp\u001b[0m\u001b[1;33m.\u001b[0m\u001b[0msum\u001b[0m\u001b[1;33m(\u001b[0m\u001b[0ms\u001b[0m\u001b[1;33m)\u001b[0m\u001b[1;33m)\u001b[0m\u001b[1;33m\u001b[0m\u001b[0m\n\u001b[1;32m     21\u001b[0m     \u001b[1;32mreturn\u001b[0m \u001b[0ms\u001b[0m\u001b[1;33m\u001b[0m\u001b[0m\n\u001b[0;32m---> 22\u001b[0;31m \u001b[0mN\u001b[0m \u001b[1;33m=\u001b[0m \u001b[0mnp\u001b[0m\u001b[1;33m.\u001b[0m\u001b[0mzeros\u001b[0m\u001b[1;33m(\u001b[0m\u001b[1;33m(\u001b[0m\u001b[0mn\u001b[0m\u001b[1;33m)\u001b[0m\u001b[1;33m)\u001b[0m\u001b[1;33m\u001b[0m\u001b[0m\n\u001b[0m\u001b[1;32m     23\u001b[0m \u001b[0my\u001b[0m \u001b[1;33m=\u001b[0m \u001b[1;33m[\u001b[0m\u001b[1;33m]\u001b[0m\u001b[1;33m\u001b[0m\u001b[0m\n\u001b[1;32m     24\u001b[0m \u001b[0mx\u001b[0m \u001b[1;33m=\u001b[0m \u001b[1;33m[\u001b[0m\u001b[1;33m]\u001b[0m\u001b[1;33m\u001b[0m\u001b[0m\n",
      "\u001b[0;31mNameError\u001b[0m: name 'np' is not defined"
     ]
    }
   ],
   "source": [
    "e = 0.001\n",
    "n = 10\n",
    "def f(t, p):\n",
    "    s = np.sin(t-5)/(1+p*t+p*(t**2))\n",
    "    return s\n",
    "def integral(i, p):\n",
    "    s = 0\n",
    "    sped = 0\n",
    "    ot = 10\n",
    "    while (abs(np.sum(s)-sped)/abs(np.sum(s)))>e:\n",
    "        l = ot/i\n",
    "        sped = np.sum(s)\n",
    "        anach = np.arange(0, ot, l)\n",
    "        bkonh = np.arange(l, ot+l, l)\n",
    "        s += ((bkonh-anach)/90)*(7*f(anach, p) + 32*f((3*anach+bkonh)/4, p) + 12*f((anach+bkonh)/2, p) + 32*f((anach+3*bkonh)/4, p)+7*f(bkonh, p))\n",
    "        ot+=1\n",
    "        if ot>100:\n",
    "            print('breake')\n",
    "            break\n",
    "        print(np.sum(s))\n",
    "    return s\n",
    "N = np.zeros((n))\n",
    "y = []\n",
    "x = []\n",
    "for k in range (n):\n",
    "    i=1\n",
    "    a=1\n",
    "    b=0\n",
    "    w=0\n",
    "    Flag = False\n",
    "#     print(integral(i, k)/integral(i*2, k)-1)\n",
    "    while Flag==False :\n",
    "        b = a\n",
    "        a = np.sum(integral(i, k))\n",
    "#         print(a, b, abs(a/b-1))\n",
    "        if (abs(a/b-1) < e):\n",
    "            Flag = True\n",
    "        \n",
    "        if k==1:\n",
    "            y.append(np.sum(integral(i, k)))\n",
    "            x.append(i)\n",
    "            w= w+1\n",
    "        i=i*2 \n",
    "#         print(i)\n",
    "    N[k]=np.sum(integral(i, k)) - 10\n",
    "x1 = np.zeros((6))\n",
    "y1 = np.zeros((6))\n",
    "for i in range (n):\n",
    "#     x1[i] = i\n",
    "#     y1[i]=f(i, 1)\n",
    "    print(N[k])\n"
   ]
  },
  {
   "cell_type": "code",
   "execution_count": null,
   "metadata": {
    "collapsed": true
   },
   "outputs": [],
   "source": [
    "def f2(t, p):\n",
    "    s = mt.sin(t)*mt.exp(- p**2 *t**2)\n",
    "    return s\n",
    "\n"
   ]
  },
  {
   "cell_type": "markdown",
   "metadata": {},
   "source": [
    "Построим графики подинтегральной функции и график значения интеграла от номера итерации (приведены примеры для первой функции)"
   ]
  },
  {
   "cell_type": "code",
   "execution_count": 55,
   "metadata": {},
   "outputs": [
    {
     "data": {
      "image/png": "[encoded data removed]",
      "text/plain": [
       "<matplotlib.figure.Figure at 0x75320b0>"
      ]
     },
     "metadata": {},
     "output_type": "display_data"
    },
    {
     "data": {
      "image/png": "[encoded data removed]",
      "text/plain": [
       "<matplotlib.figure.Figure at 0x7f8b910>"
      ]
     },
     "metadata": {},
     "output_type": "display_data"
    }
   ],
   "source": [
    "\n",
    "plt.plot(x1, y1)\n",
    "plt.grid()\n",
    "plt.show()\n",
    "plt.plot(x, y)\n",
    "plt.grid()\n",
    "plt.show()"
   ]
  },
  {
   "cell_type": "code",
   "execution_count": 27,
   "metadata": {},
   "outputs": [
    {
     "name": "stdout",
     "output_type": "stream",
     "text": [
      "[ 0.95892427 -0.06138176]\n",
      "[ 0.95892427  0.14991772 -0.06138176 -0.05044437]\n",
      "[ 0.95892427  0.46815365  0.14991772 -0.00259629 -0.06138176 -0.06868559\n",
      " -0.05044437 -0.0238663 ]\n"
     ]
    },
    {
     "data": {
      "image/png": "[encoded data removed]",
      "text/plain": [
       "<matplotlib.figure.Figure at 0x7e7f390>"
      ]
     },
     "metadata": {},
     "output_type": "display_data"
    }
   ],
   "source": [
    "s = np.zeros((4))\n",
    "lo = np.zeros((4))\n",
    "\n",
    "\n",
    "def integraltrabs(i, p):\n",
    "    s1 = 0\n",
    "    l = 5/i\n",
    "    anach = np.arange(0, 5.01, l)\n",
    "    lp = np.zeros((i))\n",
    "    for j in range (i):\n",
    "        lp[j]=f(anach[j], 1)\n",
    "    print(lp)\n",
    "    s1 = np.trapz(lp, dx=(5/(i)))\n",
    "\n",
    "    return s1\n",
    "for j in range(1, 4):\n",
    "    i=2**j\n",
    "    s[j]=integraltrabs(i, 1)\n",
    "    lo[j] = i\n",
    "plt.plot(lo, s)\n",
    "plt.grid()\n",
    "plt.show()"
   ]
  },
  {
   "cell_type": "markdown",
   "metadata": {
    "collapsed": true
   },
   "source": [
    "Зададим матрицу, содержащую коэффициенты уравнений:"
   ]
  },
  {
   "cell_type": "code",
   "execution_count": 4,
   "metadata": {},
   "outputs": [
    {
     "name": "stdout",
     "output_type": "stream",
     "text": [
      "[[ 10.       1.       0.     ...,   0.       0.       0.    ]\n",
      " [  1.      10.1801   1.     ...,   0.       0.       0.    ]\n",
      " [  0.       1.       9.9406 ...,   0.       0.       0.    ]\n",
      " ..., \n",
      " [  0.       0.       0.     ...,   9.9999   1.       0.    ]\n",
      " [  0.       0.       0.     ...,   1.       9.9999   1.    ]\n",
      " [  0.       0.       0.     ...,   0.       1.       1.    ]]\n"
     ]
    }
   ],
   "source": [
    "def coeff(i):\n",
    "    return 10+(mt.cos(i)/(i**2+i+1))\n",
    "n = 100\n",
    "M=np.zeros((n,n))\n",
    "M[0,0] = 10\n",
    "M[n-1,n-1] = 1\n",
    "M[n-1,n-2] = 1\n",
    "M[n-2,n-1] = 1\n",
    "for i in range(1,n-1):\n",
    "    M[i, i] = coeff(i)\n",
    "    M[i-1, i] = 1\n",
    "    M[i, i-1] = 1\n",
    "np.set_printoptions(suppress=True, precision =4, linewidth=100)\n",
    "print(M)"
   ]
  },
  {
   "cell_type": "markdown",
   "metadata": {},
   "source": [
    "Решим для n=1000 и n=10000 методом Гаусса-Зейделя систему \n",
    "$$x_1 = 10$$\n",
    "$$x_{i-1}+(10+cos(i)/(i^2+i+1))x_i+x_{i+1}= -10+\\int_0^5\\frac{sin(t+5)}{1+it+it^2}dt, i=\\overline{2,n-1}$$\n",
    "$$x_n = 1$$\n",
    "\n",
    "Метод Гаусс-Зейделя\n",
    "\n",
    "Итерационными называются приближенные методы, в которых решение системы получается как предел последовательности векторов $$(x^k)_{k=1}^{\\infty}$$, каждый последующий элемент которой вычисляется по некоторому единому правилу. Начальный элемент $$x^1$$ выбирается произвольно.\n",
    "Условие сходимости\n",
    "$${\\parallel\\frac{x^{k+1}-x^{k}}{x^k}\\parallel < \\epsilon}$$\n",
    "\n",
    "Покоординатная форма\n",
    "\n",
    "$$x_1^{k+1} = (b_1-a_{12}x_2^k - ... - a_{1n}x_n^k)/a_{11}$$\n",
    "$$x_2^{k+1} = (b_2-a_{21}x_2^{k+1} - ... - a_{2n}x_n^k)/a_{22}$$\n",
    "$$...................................$$\n",
    "$$x_n^{k+1} = (b_n-a_{n1}x_1^{k+1} - ... - a_{nn-1}x_{n-1}^{k+1})/a_{nn}$$"
   ]
  },
  {
   "cell_type": "code",
   "execution_count": 50,
   "metadata": {},
   "outputs": [
    {
     "name": "stdout",
     "output_type": "stream",
     "text": [
      "1\n",
      "2\n",
      "3\n",
      "4\n",
      "5\n",
      "-0.996342379335\n",
      "-0.00159139661167\n",
      "-0.753047656204\n",
      "-0.123177538844\n",
      "-0.80597103553\n",
      "-0.0936805653108\n",
      "-0.808672380697\n",
      "-0.0922273894799\n",
      "-0.809366173779\n",
      "-0.0918549502385\n",
      "-0.809284691804\n",
      "-0.0918986745189\n",
      "-0.810587458749\n",
      "-0.0912001198617\n",
      "-0.813024957767\n",
      "-0.0898961224818\n",
      "-0.815557982282\n",
      "-0.0885451572602\n",
      "-0.817317909673\n",
      "-0.0876089843961\n",
      "-0.818138981494\n",
      "-0.0871729142153\n",
      "-0.81846081187\n",
      "-0.0870021098941\n",
      "-0.818850641177\n",
      "-0.0867953065768\n",
      "-0.819576402958\n",
      "-0.0864105541907\n",
      "-0.820509631464\n",
      "-0.0859163166621\n",
      "-0.821337303569\n",
      "-0.0854784519\n",
      "-0.821855897556\n",
      "-0.0852043240446\n",
      "-0.822112411242\n",
      "-0.0850687953015\n",
      "-0.822318381569\n",
      "-0.0849600016966\n",
      "-0.822651732908\n",
      "-0.0847839831201\n",
      "-0.823124577767\n",
      "-0.0845344304712\n",
      "-0.823608238884\n",
      "-0.0842793176102\n",
      "-0.823966286786\n",
      "-0.0840905574318\n",
      "-0.824170579197\n",
      "-0.0839828927481\n",
      "-0.824308812444\n",
      "-0.0839100572166\n",
      "-0.824494909997\n",
      "-0.0838120211198\n",
      "-0.824771431671\n",
      "-0.0836663905016\n",
      "-0.825085791519\n",
      "-0.0835008916367\n",
      "-0.825349164028\n",
      "-0.0833622842615\n",
      "-0.825517563923\n",
      "-0.0832736821423\n",
      "-0.82562418349\n",
      "-0.0832175945412\n",
      "-0.825742036813\n",
      "-0.083155605811\n",
      "-0.825917417877\n",
      "-0.0830633748992\n",
      "-0.826134200922\n",
      "-0.0829493982174\n",
      "-0.826335540946\n",
      "-0.0828435677026\n",
      "-0.826477868347\n",
      "-0.0827687715947\n",
      "-0.826567450218\n",
      "-0.0827217010008\n",
      "-0.826650041102\n",
      "-0.0826783083251\n",
      "-0.82676753952\n",
      "-0.0826165829447\n",
      "-0.82692244095\n",
      "-0.082535222064\n",
      "-0.827079940731\n",
      "-0.0824525120429\n",
      "-0.827202029296\n",
      "-0.0823884088354\n",
      "-0.82728123983\n",
      "-0.0823468240115\n",
      "-0.82734452396\n",
      "-0.0823136032684\n",
      "-0.827426837083\n",
      "-0.0822703971363\n",
      "-0.827540079222\n",
      "-0.082210963397\n",
      "-0.82766487399\n",
      "-0.0821454758221\n",
      "-0.82777036858\n",
      "-0.0820901239518\n",
      "-0.827842417279\n",
      "-0.0820523248326\n",
      "-0.827894803371\n",
      "-0.0820248434299\n",
      "-0.827955030077\n",
      "-0.0819932510412\n",
      "-0.828039174222\n",
      "-0.0819491164204\n",
      "-0.828138728575\n",
      "-0.0818969047514\n",
      "-0.828230061516\n",
      "-0.0818490103543\n",
      "-0.82829648876\n",
      "-0.0818141796591\n",
      "-0.828342606798\n",
      "-0.0817899996079\n",
      "-0.828388806236\n",
      "-0.0817657782271\n",
      "-0.828452215561\n",
      "-0.0817325362688\n",
      "-0.828531849296\n",
      "-0.0816907923654\n",
      "-0.828610781615\n",
      "-0.081649420102\n",
      "-0.828672277044\n",
      "-0.0816171900911\n",
      "-0.828714690968\n",
      "-0.0815949621699\n",
      "-0.828752022566\n",
      "-0.0815753986921\n",
      "-0.828800549816\n",
      "-0.081549969493\n",
      "-0.828864281409\n",
      "-0.0815165751922\n",
      "-0.828932200422\n",
      "-0.0814809895783\n",
      "-0.828989021156\n",
      "-0.0814512210575\n",
      "-0.829029096473\n",
      "-0.0814302267287\n",
      "-0.829060927624\n",
      "-0.0814135520085\n",
      "-0.829098813189\n",
      "-0.081393706524\n",
      "-0.829149813905\n",
      "-0.0813669924005\n",
      "-0.829207902769\n",
      "-0.0813365675135\n",
      "-0.829260103191\n",
      "-0.0813092286014\n",
      "-0.82929848618\n",
      "-0.0812891273876\n",
      "-0.829327013003\n",
      "-0.0812741884616\n",
      "-0.829357394485\n",
      "-0.0812582788531\n",
      "-0.829398247269\n",
      "-0.0812368867467\n",
      "-0.829447580063\n",
      "-0.0812110555816\n",
      "-0.829495144442\n",
      "-0.0811861518315\n",
      "-0.82953204702\n",
      "-0.0811668313692\n",
      "-0.829558667807\n",
      "-0.0811528945055\n",
      "-0.829583886677\n",
      "-0.081139692004\n",
      "-0.829616737947\n",
      "-0.0811224944146\n",
      "-0.829658328991\n",
      "-0.0811007225441\n",
      "-0.829701260661\n",
      "-0.0810782500345\n",
      "-0.829736639692\n",
      "-0.0810597318143\n",
      "-0.829762195398\n",
      "-0.0810463558461\n",
      "-0.829783993044\n",
      "-0.081034947188\n",
      "-0.829810643628\n",
      "-0.081020998961\n",
      "-0.829845475481\n",
      "-0.0810027695441\n",
      "-0.829883796749\n",
      "-0.0809827148092\n",
      "-0.829917476184\n",
      "-0.0809650900573\n",
      "-0.829942412356\n",
      "-0.0809520411945\n",
      "-0.82996206108\n",
      "-0.0809417594797\n",
      "-0.829984021406\n",
      "-0.0809302684457\n",
      "-0.830003042139\n",
      "-0.0809203158388\n",
      "-0.829951230959\n",
      "-0.0809474265971\n",
      "-0.830922643827\n",
      "-0.0804394057259\n",
      "-0.821620165474\n",
      "-0.0853289101527\n",
      "-0.913970144897\n",
      "-0.0390679903911\n"
     ]
    },
    {
     "data": {
      "image/png": "[encoded data removed]",
      "text/plain": [
       "<matplotlib.figure.Figure at 0x5d74750>"
      ]
     },
     "metadata": {},
     "output_type": "display_data"
    },
    {
     "data": {
      "image/png": "[encoded data removed]",
      "text/plain": [
       "<matplotlib.figure.Figure at 0x76d6c50>"
      ]
     },
     "metadata": {},
     "output_type": "display_data"
    }
   ],
   "source": [
    "xk=np.zeros(n)\n",
    "for i in range(n):\n",
    "    xk[i]= 1\n",
    "xk1 = np.zeros(n)\n",
    "b = np.zeros(n)\n",
    "for i in range(n):\n",
    "    b[i]=1\n",
    "eps = 0.01\n",
    "norma = 1\n",
    "m =0\n",
    "Norm = list()\n",
    "xr = list()\n",
    "xx = list()\n",
    "yy=[]\n",
    "for i in range(0, n):\n",
    "    xx.append(i)\n",
    "while(norma>eps):\n",
    "#     Заполняем координаты k+1 вектора\n",
    "    H = 0\n",
    "    for i in range(n):\n",
    "        sum = 0\n",
    "        for j in range(n):\n",
    "            if(j <i):\n",
    "                sum += M[i, j]*xk1[j]  \n",
    "            if(j>i):\n",
    "                sum += M[i,j]*xk[j]\n",
    "        xk1[i] =(N[i] -sum)/M[i, i]\n",
    "        H+= ((xk1[i]-xk[i]))**2\n",
    "    norma = mt.sqrt(H)\n",
    "    Norm.append(norma)\n",
    "    xr.append(m+1)\n",
    "\n",
    "    xk = copy.copy(xk1)\n",
    "    xk1 = np.zeros(n)\n",
    "    m+=1\n",
    "    \n",
    "    \n",
    "    print(m)\n",
    "# print(xk)\n",
    "for i in range(n):\n",
    "#     print(xk[i])\n",
    "    yy.append(np.log10(np.abs(xk[i])))\n",
    "#     print(yy[i])\n",
    "plt.plot(xr, Norm)\n",
    "plt.grid()\n",
    "plt.show()\n",
    "plt.plot(xx, yy)\n",
    "plt.grid()\n",
    "plt.show()"
   ]
  },
  {
   "cell_type": "markdown",
   "metadata": {},
   "source": [
    "Построим график решения X(i), а также график зависимости нормы решения от номера итерации предлагаемого метода численного решения системы.\n",
    "\n",
    "Так же решим систему с помощью функции numpy.linalg.solve(…). Результат графически сравним с решением, полученным в пункте 3. "
   ]
  },
  {
   "cell_type": "code",
   "execution_count": 8,
   "metadata": {},
   "outputs": [
    {
     "name": "stdout",
     "output_type": "stream",
     "text": [
      "[ -0.9963  -0.753   -0.806   -0.8087  -0.8094  -0.8093  -0.8106  -0.813   -0.8155  -0.8173  -0.8181\n",
      "  -0.8184  -0.8188  -0.8196  -0.8205  -0.8213  -0.8218  -0.8221  -0.8223  -0.8226  -0.8231  -0.8236\n",
      "  -0.824   -0.8242  -0.8243  -0.8245  -0.8248  -0.8251  -0.8253  -0.8255  -0.8256  -0.8257  -0.8259\n",
      "  -0.8261  -0.8263  -0.8265  -0.8266  -0.8266  -0.8268  -0.8269  -0.8271  -0.8272  -0.8273  -0.8273\n",
      "  -0.8274  -0.8275  -0.8277  -0.8278  -0.8278  -0.8279  -0.8279  -0.828   -0.8281  -0.8282  -0.8283\n",
      "  -0.8283  -0.8284  -0.8284  -0.8285  -0.8286  -0.8287  -0.8287  -0.8287  -0.8288  -0.8289  -0.8289\n",
      "  -0.829   -0.829   -0.829   -0.8291  -0.8291  -0.8292  -0.8292  -0.8293  -0.8293  -0.8293  -0.8294\n",
      "  -0.8294  -0.8295  -0.8295  -0.8295  -0.8296  -0.8296  -0.8296  -0.8297  -0.8297  -0.8298  -0.8298\n",
      "  -0.8298  -0.8298  -0.8299  -0.8299  -0.8299  -0.83    -0.8299  -0.831   -0.8205  -0.9243   0.1027\n",
      " -10.0641]\n"
     ]
    }
   ],
   "source": [
    "b = np.zeros(n)\n",
    "for i in range(n):\n",
    "    b[i]=1\n",
    "prov = np.linalg.solve(M, N)\n",
    "print(prov)"
   ]
  },
  {
   "cell_type": "code",
   "execution_count": 39,
   "metadata": {},
   "outputs": [
    {
     "data": {
      "image/png": "[encoded data removed]",
      "text/plain": [
       "<matplotlib.figure.Figure at 0x5d65d50>"
      ]
     },
     "metadata": {},
     "output_type": "display_data"
    }
   ],
   "source": [
    "plt.plot(xx, xk)\n",
    "plt.plot(xx, prov)\n",
    "plt.grid()\n",
    "plt.show()"
   ]
  },
  {
   "cell_type": "code",
   "execution_count": null,
   "metadata": {
    "collapsed": true
   },
   "outputs": [],
   "source": []
  }
 ],
 "metadata": {
  "kernelspec": {
   "display_name": "Python 3",
   "language": "python",
   "name": "python3"
  },
  "language_info": {
   "codemirror_mode": {
    "name": "ipython",
    "version": 3
   },
   "file_extension": ".py",
   "mimetype": "text/x-python",
   "name": "python",
   "nbconvert_exporter": "python",
   "pygments_lexer": "ipython3",
   "version": "3.7.0"
  }
 },
 "nbformat": 4,
 "nbformat_minor": 2
}

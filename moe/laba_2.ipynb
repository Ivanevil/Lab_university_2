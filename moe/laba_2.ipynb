{
 "cells": [
  {
   "cell_type": "code",
   "execution_count": 1,
   "metadata": {},
   "outputs": [
    {
     "name": "stdout",
     "output_type": "stream",
     "text": [
      "[0, 1]\n",
      "(-0.14407992243761822, 4)\n"
     ]
    }
   ],
   "source": [
    "import math\n",
    "\n",
    "\n",
    "def f(x):\n",
    "    return math.tan(0.55 * x + 0.1) - x**2\n",
    "\n",
    "\n",
    "l1 = [i for i in range(-10, 10, 1) if f(i) * f(i - 1) < 0]\n",
    "print(l1)\n",
    "\n",
    "eps = 0.0001\n",
    "\n",
    "\n",
    "def f1(x):\n",
    "    return 0.55 / (math.cos(0.55 * x + 0.1) * math.cos(0.55 * x + 0.1)) - 2 * x\n",
    "\n",
    "\n",
    "# l2 = [i for i in range(-10, 10, 1) if f1(i) * f1(i - 1) < 0]\n",
    "# print(l2)\n",
    "\n",
    "\n",
    "def method(a, b):\n",
    "    x0 = (a + b) / 2\n",
    "    xn = f(x0)\n",
    "    xn1 = xn - f(xn) / f1(xn)\n",
    "    n = 0\n",
    "    while abs(xn1 - xn) > eps:\n",
    "        xn = xn1\n",
    "        xn1 = xn - f(xn) / f1(xn)\n",
    "        n += 1\n",
    "    return xn1, n\n",
    "\n",
    "\n",
    "print(method(0, 1))\n"
   ]
  },
  {
   "cell_type": "code",
   "execution_count": null,
   "metadata": {},
   "outputs": [],
   "source": []
  }
 ],
 "metadata": {
  "kernelspec": {
   "display_name": "Python 3",
   "language": "python",
   "name": "python3"
  },
  "language_info": {
   "codemirror_mode": {
    "name": "ipython",
    "version": 3
   },
   "file_extension": ".py",
   "mimetype": "text/x-python",
   "name": "python",
   "nbconvert_exporter": "python",
   "pygments_lexer": "ipython3",
   "version": "3.7.0"
  }
 },
 "nbformat": 4,
 "nbformat_minor": 2
}

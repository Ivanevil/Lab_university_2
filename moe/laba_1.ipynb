{
 "cells": [
  {
   "cell_type": "code",
   "execution_count": 1,
   "metadata": {},
   "outputs": [
    {
     "name": "stdout",
     "output_type": "stream",
     "text": [
      "173\n",
      "8.825170592119731\n"
     ]
    }
   ],
   "source": [
    "def summi(n):\n",
    "    l = []\n",
    "    l2 = []\n",
    "    total = 0\n",
    "    for i in range(n):\n",
    "        i = 216 / (7 * (i**2 + 8 * i + 15))\n",
    "        l.append(i)\n",
    "    for j in l:\n",
    "        total += j\n",
    "    for s in range(n):\n",
    "        l2.append(sum(l[0:s]))\n",
    "    return total\n",
    "\n",
    "\n",
    "def limt(eps):\n",
    "    k = 1\n",
    "    while summi(k) - summi(k - 1) > eps:\n",
    "        k += 1\n",
    "    return k\n",
    "\n",
    "print(limt(0.001))\n",
    "print(summi(limt(0.001)))\n"
   ]
  },
  {
   "cell_type": "code",
   "execution_count": 3,
   "metadata": {},
   "outputs": [
    {
     "data": {
      "image/png": "[encoded data removed]",
      "text/plain": [
       "<Figure size 432x288 with 1 Axes>"
      ]
     },
     "metadata": {
      "needs_background": "light"
     },
     "output_type": "display_data"
    }
   ],
   "source": [
    "import matplotlib.pyplot as plt\n",
    "\n",
    "\n",
    "def summi(n):\n",
    "    l = []\n",
    "    l2 = []\n",
    "    total = 0\n",
    "    for i in range(n):\n",
    "        i = 216 / (7 * (i**2 + 8 * i + 15))\n",
    "        l.append(i)\n",
    "    for j in l:\n",
    "        total += j\n",
    "    for s in range(n):\n",
    "        l2.append(sum(l[0:s]))\n",
    "    return l\n",
    "\n",
    "\n",
    "plt.plot(summi(173))\n",
    "plt.show()\n"
   ]
  },
  {
   "cell_type": "code",
   "execution_count": 4,
   "metadata": {},
   "outputs": [
    {
     "data": {
      "image/png": "[encoded data removed]",
      "text/plain": [
       "<Figure size 432x288 with 1 Axes>"
      ]
     },
     "metadata": {
      "needs_background": "light"
     },
     "output_type": "display_data"
    }
   ],
   "source": [
    "import matplotlib.pyplot as plt\n",
    "\n",
    "\n",
    "def summi(n):\n",
    "    l = []\n",
    "    l2 = []\n",
    "    total = 0\n",
    "    for i in range(n):\n",
    "        i = 216 / (7 * (i**2 + 8 * i + 15))\n",
    "        l.append(i)\n",
    "    for j in l:\n",
    "        total += j\n",
    "    for s in range(n):\n",
    "        l2.append(sum(l[0:s]))\n",
    "    return l2\n",
    "\n",
    "\n",
    "plt.plot(summi(173))\n",
    "plt.show()\n"
   ]
  },
  {
   "cell_type": "code",
   "execution_count": null,
   "metadata": {},
   "outputs": [],
   "source": []
  }
 ],
 "metadata": {
  "kernelspec": {
   "display_name": "Python 3",
   "language": "python",
   "name": "python3"
  },
  "language_info": {
   "codemirror_mode": {
    "name": "ipython",
    "version": 3
   },
   "file_extension": ".py",
   "mimetype": "text/x-python",
   "name": "python",
   "nbconvert_exporter": "python",
   "pygments_lexer": "ipython3",
   "version": "3.7.0"
  }
 },
 "nbformat": 4,
 "nbformat_minor": 2
}
